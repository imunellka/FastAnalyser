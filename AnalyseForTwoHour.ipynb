{
  "cells": [
    {
      "cell_type": "markdown",
      "metadata": {
        "id": "h95uPZfvyD1w"
      },
      "source": [
        "# НИС \"Анализ данных в Python\"\n"
      ]
    },
    {
      "cell_type": "markdown",
      "metadata": {
        "id": "ZcI2MbygyD1x"
      },
      "source": [
        "# Задание 1\n",
        "\n",
        "Необходимо проанализировать данные о сотрудниках компании (файл employees.xlsx). \n",
        "\n",
        "В файле содержаться следующие переменные:\n",
        "\n",
        "   - id - идентификатор сотрудника\n",
        "   \n",
        "   \n",
        "   - gender - пол: 'm' (мужской), 'f' (женский)\n",
        "   \n",
        "      \n",
        "   - marital - семейное положение: 'divorced', 'married', 'single', 'unknown'\n",
        "    \n",
        "   \n",
        "   - education - число лет обучения в годах\n",
        "   \n",
        "   \n",
        "   - jobcat - категория работника: 'Programmer', 'Manager', 'Technician'\n",
        "   \n",
        "   \n",
        "   - salary - текущая заработная плата (в условных единицах)\n",
        "   \n",
        "   \n",
        "   - salbegin - зарплата при приёме на работу (в условных единицах)\n",
        "   \n",
        "   \n",
        "   - jobtime - число месяцев, прошедших с даты найма\n",
        "   \n",
        "   \n",
        "   - prevexp - общий опыт работы в месяцах\n",
        "   \n",
        "  \n",
        "   - minority - принадлежность к национальным меньшинствам: 'Yes', 'No'\n",
        " \n",
        "\n"
      ]
    },
    {
      "cell_type": "markdown",
      "metadata": {
        "id": "NzWO2yVlyD10"
      },
      "source": [
        "1.1. Охарактеризуйте размер датасета и полноту данных в нём. Выведите первые 7 и последние 7 строк. Какие типы колонок в датафрейме?"
      ]
    },
    {
      "cell_type": "code",
      "execution_count": null,
      "metadata": {
        "id": "x4ocO6qSyD10",
        "outputId": "404b0668-15d4-46b2-fcf9-1ce591a11b34"
      },
      "outputs": [
        {
          "data": {
            "text/html": [
              "<div>\n",
              "<style scoped>\n",
              "    .dataframe tbody tr th:only-of-type {\n",
              "        vertical-align: middle;\n",
              "    }\n",
              "\n",
              "    .dataframe tbody tr th {\n",
              "        vertical-align: top;\n",
              "    }\n",
              "\n",
              "    .dataframe thead th {\n",
              "        text-align: right;\n",
              "    }\n",
              "</style>\n",
              "<table border=\"1\" class=\"dataframe\">\n",
              "  <thead>\n",
              "    <tr style=\"text-align: right;\">\n",
              "      <th></th>\n",
              "      <th>gender</th>\n",
              "      <th>marital</th>\n",
              "      <th>education</th>\n",
              "      <th>jobcat</th>\n",
              "      <th>salary</th>\n",
              "      <th>salbegin</th>\n",
              "      <th>jobtime</th>\n",
              "      <th>prevexp</th>\n",
              "      <th>minority</th>\n",
              "    </tr>\n",
              "    <tr>\n",
              "      <th>id</th>\n",
              "      <th></th>\n",
              "      <th></th>\n",
              "      <th></th>\n",
              "      <th></th>\n",
              "      <th></th>\n",
              "      <th></th>\n",
              "      <th></th>\n",
              "      <th></th>\n",
              "      <th></th>\n",
              "    </tr>\n",
              "  </thead>\n",
              "  <tbody>\n",
              "    <tr>\n",
              "      <th>1</th>\n",
              "      <td>m</td>\n",
              "      <td>married</td>\n",
              "      <td>15</td>\n",
              "      <td>Manager</td>\n",
              "      <td>57000.0</td>\n",
              "      <td>27000.0</td>\n",
              "      <td>98</td>\n",
              "      <td>144.0</td>\n",
              "      <td>No</td>\n",
              "    </tr>\n",
              "    <tr>\n",
              "      <th>2</th>\n",
              "      <td>m</td>\n",
              "      <td>married</td>\n",
              "      <td>16</td>\n",
              "      <td>Programmer</td>\n",
              "      <td>40200.0</td>\n",
              "      <td>18750.0</td>\n",
              "      <td>98</td>\n",
              "      <td>36.0</td>\n",
              "      <td>No</td>\n",
              "    </tr>\n",
              "    <tr>\n",
              "      <th>3</th>\n",
              "      <td>f</td>\n",
              "      <td>married</td>\n",
              "      <td>12</td>\n",
              "      <td>Programmer</td>\n",
              "      <td>21450.0</td>\n",
              "      <td>12000.0</td>\n",
              "      <td>98</td>\n",
              "      <td>381.0</td>\n",
              "      <td>No</td>\n",
              "    </tr>\n",
              "    <tr>\n",
              "      <th>4</th>\n",
              "      <td>f</td>\n",
              "      <td>married</td>\n",
              "      <td>8</td>\n",
              "      <td>Programmer</td>\n",
              "      <td>21900.0</td>\n",
              "      <td>13200.0</td>\n",
              "      <td>98</td>\n",
              "      <td>190.0</td>\n",
              "      <td>No</td>\n",
              "    </tr>\n",
              "    <tr>\n",
              "      <th>5</th>\n",
              "      <td>m</td>\n",
              "      <td>married</td>\n",
              "      <td>15</td>\n",
              "      <td>Programmer</td>\n",
              "      <td>45000.0</td>\n",
              "      <td>21000.0</td>\n",
              "      <td>98</td>\n",
              "      <td>138.0</td>\n",
              "      <td>No</td>\n",
              "    </tr>\n",
              "    <tr>\n",
              "      <th>6</th>\n",
              "      <td>m</td>\n",
              "      <td>married</td>\n",
              "      <td>15</td>\n",
              "      <td>Programmer</td>\n",
              "      <td>32100.0</td>\n",
              "      <td>13500.0</td>\n",
              "      <td>98</td>\n",
              "      <td>67.0</td>\n",
              "      <td>No</td>\n",
              "    </tr>\n",
              "    <tr>\n",
              "      <th>7</th>\n",
              "      <td>m</td>\n",
              "      <td>married</td>\n",
              "      <td>15</td>\n",
              "      <td>Programmer</td>\n",
              "      <td>36000.0</td>\n",
              "      <td>18750.0</td>\n",
              "      <td>98</td>\n",
              "      <td>114.0</td>\n",
              "      <td>No</td>\n",
              "    </tr>\n",
              "  </tbody>\n",
              "</table>\n",
              "</div>"
            ],
            "text/plain": [
              "   gender  marital  education      jobcat   salary  salbegin  jobtime  \\\n",
              "id                                                                      \n",
              "1       m  married         15     Manager  57000.0   27000.0       98   \n",
              "2       m  married         16  Programmer  40200.0   18750.0       98   \n",
              "3       f  married         12  Programmer  21450.0   12000.0       98   \n",
              "4       f  married          8  Programmer  21900.0   13200.0       98   \n",
              "5       m  married         15  Programmer  45000.0   21000.0       98   \n",
              "6       m  married         15  Programmer  32100.0   13500.0       98   \n",
              "7       m  married         15  Programmer  36000.0   18750.0       98   \n",
              "\n",
              "    prevexp minority  \n",
              "id                    \n",
              "1     144.0       No  \n",
              "2      36.0       No  \n",
              "3     381.0       No  \n",
              "4     190.0       No  \n",
              "5     138.0       No  \n",
              "6      67.0       No  \n",
              "7     114.0       No  "
            ]
          },
          "execution_count": 158,
          "metadata": {},
          "output_type": "execute_result"
        }
      ],
      "source": [
        "#здесь написать ответ\n",
        "import pandas as pd\n",
        "df=pd.read_excel(\"employees.xlsx\",index_col=0)\n",
        "df.head(7)"
      ]
    },
    {
      "cell_type": "code",
      "execution_count": null,
      "metadata": {
        "id": "aKnxZ1x8yD11",
        "outputId": "e9ff4e1e-4121-46b0-e42b-ac03ca942e56"
      },
      "outputs": [
        {
          "data": {
            "text/html": [
              "<div>\n",
              "<style scoped>\n",
              "    .dataframe tbody tr th:only-of-type {\n",
              "        vertical-align: middle;\n",
              "    }\n",
              "\n",
              "    .dataframe tbody tr th {\n",
              "        vertical-align: top;\n",
              "    }\n",
              "\n",
              "    .dataframe thead th {\n",
              "        text-align: right;\n",
              "    }\n",
              "</style>\n",
              "<table border=\"1\" class=\"dataframe\">\n",
              "  <thead>\n",
              "    <tr style=\"text-align: right;\">\n",
              "      <th></th>\n",
              "      <th>gender</th>\n",
              "      <th>marital</th>\n",
              "      <th>education</th>\n",
              "      <th>jobcat</th>\n",
              "      <th>salary</th>\n",
              "      <th>salbegin</th>\n",
              "      <th>jobtime</th>\n",
              "      <th>prevexp</th>\n",
              "      <th>minority</th>\n",
              "    </tr>\n",
              "    <tr>\n",
              "      <th>id</th>\n",
              "      <th></th>\n",
              "      <th></th>\n",
              "      <th></th>\n",
              "      <th></th>\n",
              "      <th></th>\n",
              "      <th></th>\n",
              "      <th></th>\n",
              "      <th></th>\n",
              "      <th></th>\n",
              "    </tr>\n",
              "  </thead>\n",
              "  <tbody>\n",
              "    <tr>\n",
              "      <th>468</th>\n",
              "      <td>f</td>\n",
              "      <td>married</td>\n",
              "      <td>16</td>\n",
              "      <td>Manager</td>\n",
              "      <td>55750.0</td>\n",
              "      <td>19980.0</td>\n",
              "      <td>64</td>\n",
              "      <td>36.0</td>\n",
              "      <td>No</td>\n",
              "    </tr>\n",
              "    <tr>\n",
              "      <th>469</th>\n",
              "      <td>f</td>\n",
              "      <td>married</td>\n",
              "      <td>15</td>\n",
              "      <td>Programmer</td>\n",
              "      <td>25200.0</td>\n",
              "      <td>13950.0</td>\n",
              "      <td>64</td>\n",
              "      <td>57.0</td>\n",
              "      <td>No</td>\n",
              "    </tr>\n",
              "    <tr>\n",
              "      <th>470</th>\n",
              "      <td>m</td>\n",
              "      <td>married</td>\n",
              "      <td>12</td>\n",
              "      <td>Programmer</td>\n",
              "      <td>26250.0</td>\n",
              "      <td>15750.0</td>\n",
              "      <td>64</td>\n",
              "      <td>69.0</td>\n",
              "      <td>Yes</td>\n",
              "    </tr>\n",
              "    <tr>\n",
              "      <th>471</th>\n",
              "      <td>m</td>\n",
              "      <td>single</td>\n",
              "      <td>15</td>\n",
              "      <td>Programmer</td>\n",
              "      <td>26400.0</td>\n",
              "      <td>15750.0</td>\n",
              "      <td>64</td>\n",
              "      <td>32.0</td>\n",
              "      <td>Yes</td>\n",
              "    </tr>\n",
              "    <tr>\n",
              "      <th>472</th>\n",
              "      <td>m</td>\n",
              "      <td>married</td>\n",
              "      <td>15</td>\n",
              "      <td>Programmer</td>\n",
              "      <td>39150.0</td>\n",
              "      <td>15750.0</td>\n",
              "      <td>63</td>\n",
              "      <td>46.0</td>\n",
              "      <td>No</td>\n",
              "    </tr>\n",
              "    <tr>\n",
              "      <th>473</th>\n",
              "      <td>f</td>\n",
              "      <td>divorced</td>\n",
              "      <td>12</td>\n",
              "      <td>Programmer</td>\n",
              "      <td>21450.0</td>\n",
              "      <td>12750.0</td>\n",
              "      <td>63</td>\n",
              "      <td>139.0</td>\n",
              "      <td>No</td>\n",
              "    </tr>\n",
              "    <tr>\n",
              "      <th>474</th>\n",
              "      <td>f</td>\n",
              "      <td>married</td>\n",
              "      <td>12</td>\n",
              "      <td>Programmer</td>\n",
              "      <td>29400.0</td>\n",
              "      <td>14250.0</td>\n",
              "      <td>63</td>\n",
              "      <td>9.0</td>\n",
              "      <td>No</td>\n",
              "    </tr>\n",
              "  </tbody>\n",
              "</table>\n",
              "</div>"
            ],
            "text/plain": [
              "    gender   marital  education      jobcat   salary  salbegin  jobtime  \\\n",
              "id                                                                        \n",
              "468      f   married         16     Manager  55750.0   19980.0       64   \n",
              "469      f   married         15  Programmer  25200.0   13950.0       64   \n",
              "470      m   married         12  Programmer  26250.0   15750.0       64   \n",
              "471      m    single         15  Programmer  26400.0   15750.0       64   \n",
              "472      m   married         15  Programmer  39150.0   15750.0       63   \n",
              "473      f  divorced         12  Programmer  21450.0   12750.0       63   \n",
              "474      f   married         12  Programmer  29400.0   14250.0       63   \n",
              "\n",
              "     prevexp minority  \n",
              "id                     \n",
              "468     36.0       No  \n",
              "469     57.0       No  \n",
              "470     69.0      Yes  \n",
              "471     32.0      Yes  \n",
              "472     46.0       No  \n",
              "473    139.0       No  \n",
              "474      9.0       No  "
            ]
          },
          "execution_count": 6,
          "metadata": {},
          "output_type": "execute_result"
        }
      ],
      "source": [
        "df.tail(7)"
      ]
    },
    {
      "cell_type": "code",
      "execution_count": null,
      "metadata": {
        "id": "tIc8PJZUyD12",
        "outputId": "95e7f2a9-77d1-4859-8866-abf25a08f845"
      },
      "outputs": [
        {
          "data": {
            "text/plain": [
              "'Строк: 474, столбцов: 9'"
            ]
          },
          "metadata": {},
          "output_type": "display_data"
        },
        {
          "name": "stdout",
          "output_type": "stream",
          "text": [
            "\n"
          ]
        },
        {
          "data": {
            "text/plain": [
              "gender        object\n",
              "marital       object\n",
              "education      int64\n",
              "jobcat        object\n",
              "salary       float64\n",
              "salbegin     float64\n",
              "jobtime        int64\n",
              "prevexp      float64\n",
              "minority      object\n",
              "dtype: object"
            ]
          },
          "metadata": {},
          "output_type": "display_data"
        },
        {
          "name": "stdout",
          "output_type": "stream",
          "text": [
            "\n"
          ]
        },
        {
          "data": {
            "text/plain": [
              "gender        0\n",
              "marital       0\n",
              "education     0\n",
              "jobcat        3\n",
              "salary        7\n",
              "salbegin      4\n",
              "jobtime       0\n",
              "prevexp      24\n",
              "minority      0\n",
              "dtype: int64"
            ]
          },
          "execution_count": 7,
          "metadata": {},
          "output_type": "execute_result"
        }
      ],
      "source": [
        "display(f'Строк: {df.shape[0]}, столбцов: {df.shape[1]}')\n",
        "display(df.dtypes)\n",
        "df.isna().sum()"
      ]
    },
    {
      "cell_type": "raw",
      "metadata": {
        "id": "BXilNKCpyD13"
      },
      "source": [
        "В последней таблице представлены пропущенные значения"
      ]
    },
    {
      "cell_type": "markdown",
      "metadata": {
        "id": "YqRqLFwlyD13"
      },
      "source": [
        "1.2. Рассчитайте статистические показатели для переменных, имеющих метрическую шкалу измерения (количество значений, среднее арифметическое, стандартное отклонение, минимум, максимум, медиана, первый и третий квартиль). Прокомментируйте на основе полученных расчётов наблюдаемые тенденции в распределении значений рассмотренных переменных. "
      ]
    },
    {
      "cell_type": "code",
      "execution_count": null,
      "metadata": {
        "id": "EbriboZZyD13",
        "outputId": "ad35fcdd-53e4-45b9-d9e2-dfff9afea2e2"
      },
      "outputs": [
        {
          "data": {
            "text/html": [
              "<div>\n",
              "<style scoped>\n",
              "    .dataframe tbody tr th:only-of-type {\n",
              "        vertical-align: middle;\n",
              "    }\n",
              "\n",
              "    .dataframe tbody tr th {\n",
              "        vertical-align: top;\n",
              "    }\n",
              "\n",
              "    .dataframe thead th {\n",
              "        text-align: right;\n",
              "    }\n",
              "</style>\n",
              "<table border=\"1\" class=\"dataframe\">\n",
              "  <thead>\n",
              "    <tr style=\"text-align: right;\">\n",
              "      <th></th>\n",
              "      <th>education</th>\n",
              "      <th>salary</th>\n",
              "      <th>salbegin</th>\n",
              "      <th>jobtime</th>\n",
              "      <th>prevexp</th>\n",
              "    </tr>\n",
              "  </thead>\n",
              "  <tbody>\n",
              "    <tr>\n",
              "      <th>count</th>\n",
              "      <td>474.000000</td>\n",
              "      <td>467.000000</td>\n",
              "      <td>470.000000</td>\n",
              "      <td>474.000000</td>\n",
              "      <td>450.000000</td>\n",
              "    </tr>\n",
              "    <tr>\n",
              "      <th>mean</th>\n",
              "      <td>13.491561</td>\n",
              "      <td>34190.845824</td>\n",
              "      <td>17054.627660</td>\n",
              "      <td>81.109705</td>\n",
              "      <td>100.973333</td>\n",
              "    </tr>\n",
              "    <tr>\n",
              "      <th>std</th>\n",
              "      <td>2.884846</td>\n",
              "      <td>16789.484900</td>\n",
              "      <td>7890.359771</td>\n",
              "      <td>10.060945</td>\n",
              "      <td>104.907443</td>\n",
              "    </tr>\n",
              "    <tr>\n",
              "      <th>min</th>\n",
              "      <td>8.000000</td>\n",
              "      <td>15750.000000</td>\n",
              "      <td>9000.000000</td>\n",
              "      <td>63.000000</td>\n",
              "      <td>2.000000</td>\n",
              "    </tr>\n",
              "    <tr>\n",
              "      <th>25%</th>\n",
              "      <td>12.000000</td>\n",
              "      <td>24000.000000</td>\n",
              "      <td>12637.500000</td>\n",
              "      <td>72.000000</td>\n",
              "      <td>24.000000</td>\n",
              "    </tr>\n",
              "    <tr>\n",
              "      <th>50%</th>\n",
              "      <td>12.000000</td>\n",
              "      <td>28800.000000</td>\n",
              "      <td>15000.000000</td>\n",
              "      <td>81.000000</td>\n",
              "      <td>59.000000</td>\n",
              "    </tr>\n",
              "    <tr>\n",
              "      <th>75%</th>\n",
              "      <td>15.000000</td>\n",
              "      <td>36375.000000</td>\n",
              "      <td>17872.500000</td>\n",
              "      <td>90.000000</td>\n",
              "      <td>144.000000</td>\n",
              "    </tr>\n",
              "    <tr>\n",
              "      <th>max</th>\n",
              "      <td>21.000000</td>\n",
              "      <td>135000.000000</td>\n",
              "      <td>79980.000000</td>\n",
              "      <td>98.000000</td>\n",
              "      <td>476.000000</td>\n",
              "    </tr>\n",
              "  </tbody>\n",
              "</table>\n",
              "</div>"
            ],
            "text/plain": [
              "        education         salary      salbegin     jobtime     prevexp\n",
              "count  474.000000     467.000000    470.000000  474.000000  450.000000\n",
              "mean    13.491561   34190.845824  17054.627660   81.109705  100.973333\n",
              "std      2.884846   16789.484900   7890.359771   10.060945  104.907443\n",
              "min      8.000000   15750.000000   9000.000000   63.000000    2.000000\n",
              "25%     12.000000   24000.000000  12637.500000   72.000000   24.000000\n",
              "50%     12.000000   28800.000000  15000.000000   81.000000   59.000000\n",
              "75%     15.000000   36375.000000  17872.500000   90.000000  144.000000\n",
              "max     21.000000  135000.000000  79980.000000   98.000000  476.000000"
            ]
          },
          "execution_count": 9,
          "metadata": {},
          "output_type": "execute_result"
        }
      ],
      "source": [
        "#здесь написать ответ\n",
        "df.describe()"
      ]
    },
    {
      "cell_type": "markdown",
      "metadata": {
        "id": "GhuzdDBxyD14"
      },
      "source": [
        "# Выводы\n",
        "1. В среднем люди получают 13 лет образования, причем медиана совпадает с первым квартилем, что говорит о большом количестве людей , получивших 12 лет образования суммарно\n",
        "2. Можно заметить что , зарплата растет, медленно  т.е. большой процент людей получает схожую зарлпату . Однако идет резкий перепад, когда дело заходит и максимальной зарплате. \n",
        "3. Статистика собтралась с людей , которые работают на компании уже на протяжении минимум 5 лет\n",
        "4. Касательно общего опыт работы сказать что либо сложно, очень большой разброс значений у опрашиваемых "
      ]
    },
    {
      "cell_type": "markdown",
      "metadata": {
        "id": "7tOsK7qhyD14"
      },
      "source": [
        "1.3. Проведите частотный анализ категориальных переменных. Выведите число уникальных значений и самое часто встречаемое значение. Охарактеризуйте распределение значений, как в абсолютном, так и в процентном отношении. "
      ]
    },
    {
      "cell_type": "code",
      "execution_count": null,
      "metadata": {
        "id": "m4abAepQyD15",
        "outputId": "720f5abf-ce00-459b-83b6-1edaa6c0bdef"
      },
      "outputs": [
        {
          "data": {
            "text/plain": [
              "m    258\n",
              "f    216\n",
              "Name: gender, dtype: int64"
            ]
          },
          "execution_count": 96,
          "metadata": {},
          "output_type": "execute_result"
        }
      ],
      "source": [
        "#здесь написать ответ\n",
        "df['gender'].value_counts()"
      ]
    },
    {
      "cell_type": "code",
      "execution_count": null,
      "metadata": {
        "id": "JOfttZS1yD16",
        "outputId": "0db3f3bc-b81b-4f85-cc2a-9434e42a2e4b"
      },
      "outputs": [
        {
          "data": {
            "text/plain": [
              "married     334\n",
              "single       85\n",
              "divorced     52\n",
              "unknown       3\n",
              "Name: marital, dtype: int64"
            ]
          },
          "execution_count": 97,
          "metadata": {},
          "output_type": "execute_result"
        }
      ],
      "source": [
        "df['marital'].value_counts()"
      ]
    },
    {
      "cell_type": "code",
      "execution_count": null,
      "metadata": {
        "id": "eq1413FAyD16",
        "outputId": "a79abcb4-b5cb-4c6b-d2a1-062805702da9"
      },
      "outputs": [
        {
          "data": {
            "text/plain": [
              "Programmer    361\n",
              "Manager        83\n",
              "Technician     27\n",
              "Name: jobcat, dtype: int64"
            ]
          },
          "execution_count": 98,
          "metadata": {},
          "output_type": "execute_result"
        }
      ],
      "source": [
        "df['jobcat'].value_counts()"
      ]
    },
    {
      "cell_type": "code",
      "execution_count": null,
      "metadata": {
        "id": "pry_oAX1yD17",
        "outputId": "dc1a29f3-870f-4b66-f448-a47f9b6a8726"
      },
      "outputs": [
        {
          "data": {
            "text/plain": [
              "No     370\n",
              "Yes    104\n",
              "Name: minority, dtype: int64"
            ]
          },
          "execution_count": 99,
          "metadata": {},
          "output_type": "execute_result"
        }
      ],
      "source": [
        "df['minority'].value_counts()"
      ]
    },
    {
      "cell_type": "markdown",
      "metadata": {
        "id": "VpJTjKgeyD17"
      },
      "source": [
        "# Выводы\n",
        "1. Опрашиваемых мужчин и женщин примерно одинаковое количество\n",
        "2. Подавляющее большинство замужем ( было бы интересно посмотреть езе и на возраст )\n",
        "3. Также стоит заменить , что в компании в основном работают программисты"
      ]
    },
    {
      "cell_type": "markdown",
      "metadata": {
        "id": "DJQltyiCyD18"
      },
      "source": [
        "1.4. Примените многоуровневую сортировку."
      ]
    },
    {
      "cell_type": "code",
      "execution_count": null,
      "metadata": {
        "id": "klOWgGfHyD18",
        "outputId": "ebe17b12-a415-4300-90fe-8695f2609347"
      },
      "outputs": [
        {
          "data": {
            "text/html": [
              "<div>\n",
              "<style scoped>\n",
              "    .dataframe tbody tr th:only-of-type {\n",
              "        vertical-align: middle;\n",
              "    }\n",
              "\n",
              "    .dataframe tbody tr th {\n",
              "        vertical-align: top;\n",
              "    }\n",
              "\n",
              "    .dataframe thead th {\n",
              "        text-align: right;\n",
              "    }\n",
              "</style>\n",
              "<table border=\"1\" class=\"dataframe\">\n",
              "  <thead>\n",
              "    <tr style=\"text-align: right;\">\n",
              "      <th></th>\n",
              "      <th>gender</th>\n",
              "      <th>marital</th>\n",
              "      <th>education</th>\n",
              "      <th>jobcat</th>\n",
              "      <th>salary</th>\n",
              "      <th>salbegin</th>\n",
              "      <th>jobtime</th>\n",
              "      <th>prevexp</th>\n",
              "      <th>minority</th>\n",
              "    </tr>\n",
              "    <tr>\n",
              "      <th>id</th>\n",
              "      <th></th>\n",
              "      <th></th>\n",
              "      <th></th>\n",
              "      <th></th>\n",
              "      <th></th>\n",
              "      <th></th>\n",
              "      <th></th>\n",
              "      <th></th>\n",
              "      <th></th>\n",
              "    </tr>\n",
              "  </thead>\n",
              "  <tbody>\n",
              "    <tr>\n",
              "      <th>29</th>\n",
              "      <td>m</td>\n",
              "      <td>single</td>\n",
              "      <td>19</td>\n",
              "      <td>Manager</td>\n",
              "      <td>135000.0</td>\n",
              "      <td>79980.0</td>\n",
              "      <td>96</td>\n",
              "      <td>199.0</td>\n",
              "      <td>No</td>\n",
              "    </tr>\n",
              "    <tr>\n",
              "      <th>32</th>\n",
              "      <td>m</td>\n",
              "      <td>married</td>\n",
              "      <td>19</td>\n",
              "      <td>Manager</td>\n",
              "      <td>110625.0</td>\n",
              "      <td>45000.0</td>\n",
              "      <td>96</td>\n",
              "      <td>120.0</td>\n",
              "      <td>No</td>\n",
              "    </tr>\n",
              "    <tr>\n",
              "      <th>18</th>\n",
              "      <td>m</td>\n",
              "      <td>married</td>\n",
              "      <td>16</td>\n",
              "      <td>Manager</td>\n",
              "      <td>103750.0</td>\n",
              "      <td>27510.0</td>\n",
              "      <td>97</td>\n",
              "      <td>70.0</td>\n",
              "      <td>No</td>\n",
              "    </tr>\n",
              "    <tr>\n",
              "      <th>343</th>\n",
              "      <td>m</td>\n",
              "      <td>married</td>\n",
              "      <td>16</td>\n",
              "      <td>Manager</td>\n",
              "      <td>103500.0</td>\n",
              "      <td>60000.0</td>\n",
              "      <td>73</td>\n",
              "      <td>150.0</td>\n",
              "      <td>No</td>\n",
              "    </tr>\n",
              "    <tr>\n",
              "      <th>446</th>\n",
              "      <td>m</td>\n",
              "      <td>married</td>\n",
              "      <td>16</td>\n",
              "      <td>Manager</td>\n",
              "      <td>100000.0</td>\n",
              "      <td>44100.0</td>\n",
              "      <td>66</td>\n",
              "      <td>128.0</td>\n",
              "      <td>Yes</td>\n",
              "    </tr>\n",
              "    <tr>\n",
              "      <th>103</th>\n",
              "      <td>m</td>\n",
              "      <td>married</td>\n",
              "      <td>19</td>\n",
              "      <td>Manager</td>\n",
              "      <td>97000.0</td>\n",
              "      <td>35010.0</td>\n",
              "      <td>91</td>\n",
              "      <td>68.0</td>\n",
              "      <td>No</td>\n",
              "    </tr>\n",
              "    <tr>\n",
              "      <th>106</th>\n",
              "      <td>m</td>\n",
              "      <td>single</td>\n",
              "      <td>19</td>\n",
              "      <td>Manager</td>\n",
              "      <td>91250.0</td>\n",
              "      <td>29490.0</td>\n",
              "      <td>91</td>\n",
              "      <td>23.0</td>\n",
              "      <td>No</td>\n",
              "    </tr>\n",
              "    <tr>\n",
              "      <th>454</th>\n",
              "      <td>m</td>\n",
              "      <td>married</td>\n",
              "      <td>19</td>\n",
              "      <td>Manager</td>\n",
              "      <td>90625.0</td>\n",
              "      <td>31250.0</td>\n",
              "      <td>65</td>\n",
              "      <td>18.0</td>\n",
              "      <td>No</td>\n",
              "    </tr>\n",
              "    <tr>\n",
              "      <th>431</th>\n",
              "      <td>m</td>\n",
              "      <td>divorced</td>\n",
              "      <td>18</td>\n",
              "      <td>Manager</td>\n",
              "      <td>86250.0</td>\n",
              "      <td>45000.0</td>\n",
              "      <td>66</td>\n",
              "      <td>50.0</td>\n",
              "      <td>No</td>\n",
              "    </tr>\n",
              "    <tr>\n",
              "      <th>274</th>\n",
              "      <td>m</td>\n",
              "      <td>single</td>\n",
              "      <td>16</td>\n",
              "      <td>Manager</td>\n",
              "      <td>83750.0</td>\n",
              "      <td>21750.0</td>\n",
              "      <td>79</td>\n",
              "      <td>12.0</td>\n",
              "      <td>No</td>\n",
              "    </tr>\n",
              "    <tr>\n",
              "      <th>71</th>\n",
              "      <td>m</td>\n",
              "      <td>married</td>\n",
              "      <td>17</td>\n",
              "      <td>Manager</td>\n",
              "      <td>82500.0</td>\n",
              "      <td>34980.0</td>\n",
              "      <td>93</td>\n",
              "      <td>207.0</td>\n",
              "      <td>No</td>\n",
              "    </tr>\n",
              "    <tr>\n",
              "      <th>35</th>\n",
              "      <td>m</td>\n",
              "      <td>divorced</td>\n",
              "      <td>17</td>\n",
              "      <td>Manager</td>\n",
              "      <td>81250.0</td>\n",
              "      <td>30000.0</td>\n",
              "      <td>96</td>\n",
              "      <td>18.0</td>\n",
              "      <td>No</td>\n",
              "    </tr>\n",
              "    <tr>\n",
              "      <th>218</th>\n",
              "      <td>m</td>\n",
              "      <td>single</td>\n",
              "      <td>15</td>\n",
              "      <td>Programmer</td>\n",
              "      <td>80000.0</td>\n",
              "      <td>15750.0</td>\n",
              "      <td>82</td>\n",
              "      <td>34.0</td>\n",
              "      <td>No</td>\n",
              "    </tr>\n",
              "    <tr>\n",
              "      <th>383</th>\n",
              "      <td>m</td>\n",
              "      <td>single</td>\n",
              "      <td>17</td>\n",
              "      <td>Manager</td>\n",
              "      <td>78500.0</td>\n",
              "      <td>28740.0</td>\n",
              "      <td>70</td>\n",
              "      <td>67.0</td>\n",
              "      <td>Yes</td>\n",
              "    </tr>\n",
              "    <tr>\n",
              "      <th>100</th>\n",
              "      <td>m</td>\n",
              "      <td>married</td>\n",
              "      <td>18</td>\n",
              "      <td>Manager</td>\n",
              "      <td>78250.0</td>\n",
              "      <td>27480.0</td>\n",
              "      <td>91</td>\n",
              "      <td>47.0</td>\n",
              "      <td>No</td>\n",
              "    </tr>\n",
              "    <tr>\n",
              "      <th>66</th>\n",
              "      <td>m</td>\n",
              "      <td>married</td>\n",
              "      <td>19</td>\n",
              "      <td>NaN</td>\n",
              "      <td>78125.0</td>\n",
              "      <td>30000.0</td>\n",
              "      <td>93</td>\n",
              "      <td>7.0</td>\n",
              "      <td>No</td>\n",
              "    </tr>\n",
              "    <tr>\n",
              "      <th>235</th>\n",
              "      <td>m</td>\n",
              "      <td>married</td>\n",
              "      <td>19</td>\n",
              "      <td>Manager</td>\n",
              "      <td>75000.0</td>\n",
              "      <td>31500.0</td>\n",
              "      <td>81</td>\n",
              "      <td>13.0</td>\n",
              "      <td>No</td>\n",
              "    </tr>\n",
              "    <tr>\n",
              "      <th>456</th>\n",
              "      <td>m</td>\n",
              "      <td>married</td>\n",
              "      <td>19</td>\n",
              "      <td>Manager</td>\n",
              "      <td>75000.0</td>\n",
              "      <td>42510.0</td>\n",
              "      <td>65</td>\n",
              "      <td>54.0</td>\n",
              "      <td>No</td>\n",
              "    </tr>\n",
              "    <tr>\n",
              "      <th>284</th>\n",
              "      <td>m</td>\n",
              "      <td>married</td>\n",
              "      <td>19</td>\n",
              "      <td>Manager</td>\n",
              "      <td>73500.0</td>\n",
              "      <td>33000.0</td>\n",
              "      <td>78</td>\n",
              "      <td>45.0</td>\n",
              "      <td>No</td>\n",
              "    </tr>\n",
              "    <tr>\n",
              "      <th>198</th>\n",
              "      <td>m</td>\n",
              "      <td>single</td>\n",
              "      <td>19</td>\n",
              "      <td>Manager</td>\n",
              "      <td>70875.0</td>\n",
              "      <td>43500.0</td>\n",
              "      <td>83</td>\n",
              "      <td>156.0</td>\n",
              "      <td>No</td>\n",
              "    </tr>\n",
              "  </tbody>\n",
              "</table>\n",
              "</div>"
            ],
            "text/plain": [
              "    gender   marital  education      jobcat    salary  salbegin  jobtime  \\\n",
              "id                                                                         \n",
              "29       m    single         19     Manager  135000.0   79980.0       96   \n",
              "32       m   married         19     Manager  110625.0   45000.0       96   \n",
              "18       m   married         16     Manager  103750.0   27510.0       97   \n",
              "343      m   married         16     Manager  103500.0   60000.0       73   \n",
              "446      m   married         16     Manager  100000.0   44100.0       66   \n",
              "103      m   married         19     Manager   97000.0   35010.0       91   \n",
              "106      m    single         19     Manager   91250.0   29490.0       91   \n",
              "454      m   married         19     Manager   90625.0   31250.0       65   \n",
              "431      m  divorced         18     Manager   86250.0   45000.0       66   \n",
              "274      m    single         16     Manager   83750.0   21750.0       79   \n",
              "71       m   married         17     Manager   82500.0   34980.0       93   \n",
              "35       m  divorced         17     Manager   81250.0   30000.0       96   \n",
              "218      m    single         15  Programmer   80000.0   15750.0       82   \n",
              "383      m    single         17     Manager   78500.0   28740.0       70   \n",
              "100      m   married         18     Manager   78250.0   27480.0       91   \n",
              "66       m   married         19         NaN   78125.0   30000.0       93   \n",
              "235      m   married         19     Manager   75000.0   31500.0       81   \n",
              "456      m   married         19     Manager   75000.0   42510.0       65   \n",
              "284      m   married         19     Manager   73500.0   33000.0       78   \n",
              "198      m    single         19     Manager   70875.0   43500.0       83   \n",
              "\n",
              "     prevexp minority  \n",
              "id                     \n",
              "29     199.0       No  \n",
              "32     120.0       No  \n",
              "18      70.0       No  \n",
              "343    150.0       No  \n",
              "446    128.0      Yes  \n",
              "103     68.0       No  \n",
              "106     23.0       No  \n",
              "454     18.0       No  \n",
              "431     50.0       No  \n",
              "274     12.0       No  \n",
              "71     207.0       No  \n",
              "35      18.0       No  \n",
              "218     34.0       No  \n",
              "383     67.0      Yes  \n",
              "100     47.0       No  \n",
              "66       7.0       No  \n",
              "235     13.0       No  \n",
              "456     54.0       No  \n",
              "284     45.0       No  \n",
              "198    156.0       No  "
            ]
          },
          "execution_count": 79,
          "metadata": {},
          "output_type": "execute_result"
        }
      ],
      "source": [
        "#здесь написать ответ\n",
        "df.sort_values(by=[\"salary\",\"education\",\"jobtime\"],ascending =[False,False, False]).head(20)"
      ]
    },
    {
      "cell_type": "markdown",
      "metadata": {
        "id": "oX8tKvULyD18"
      },
      "source": [
        "# Выводы\n",
        "Применена многоуровневая сортировка основной критерий -размер зарплаты, последующие образование и время с даты найма.\n",
        "Ссылаясь на полученные данные, лидеры по зарплате и образование мужчины( первые 20 точно)\n",
        "И в основном менеджеры , которые руководят процессом.\n",
        "\n",
        "( можно предположить , что менеджеры получают больше и в основном мужчины, так как девушек мало продвигают по службе из-за возможности дикрета)"
      ]
    },
    {
      "cell_type": "markdown",
      "metadata": {
        "id": "StAgjuS4yD19"
      },
      "source": [
        "1.5. Сколько в выборке программистов? А женщин? Какой процент в выборке женщин-программистов?"
      ]
    },
    {
      "cell_type": "code",
      "execution_count": null,
      "metadata": {
        "id": "M2MGrlmfyD19",
        "outputId": "ef67a365-0baf-47bd-ee80-03e63fdd090e"
      },
      "outputs": [
        {
          "name": "stdout",
          "output_type": "stream",
          "text": [
            "Программсистов в выборке\n",
            "361\n",
            "205\n",
            "56.78670360110804\n"
          ]
        },
        {
          "data": {
            "text/plain": [
              "<AxesSubplot:>"
            ]
          },
          "execution_count": 100,
          "metadata": {},
          "output_type": "execute_result"
        },
        {
          "data": {
            "image/png": "[encoded data removed]",
            "text/plain": [
              "<Figure size 432x288 with 1 Axes>"
            ]
          },
          "metadata": {
            "needs_background": "light"
          },
          "output_type": "display_data"
        }
      ],
      "source": [
        "#здесь написать ответ\n",
        "print(\"Программсистов в выборке\")\n",
        "print(df[df.jobcat==\"Programmer\"].shape[0])\n",
        "print(df[(df['jobcat'] == 'Programmer') & (df['gender'] =='f')].shape[0])\n",
        "print(205/361*100)\n",
        "df[df.gender==\"m\"].salary.hist(bins=20)\n",
        "df[df.gender==\"f\"].salary.hist(bins=20)"
      ]
    },
    {
      "cell_type": "markdown",
      "metadata": {
        "id": "dSkheQtJyD19"
      },
      "source": [
        "# вывод \n",
        "Женщин программистов 56%  разрушаем гендерные стереотипы о мужчских профессиях  ( ликую )\n",
        "Однако график зарплат на основе пола ( рыжий - жен) говорит о том , что высокие зарплаты все же достаются мужчинам."
      ]
    },
    {
      "cell_type": "code",
      "execution_count": null,
      "metadata": {
        "id": "eiK9erMbyD1-",
        "outputId": "ccb70a89-c652-4f9f-c182-88a59a00c19c"
      },
      "outputs": [
        {
          "data": {
            "text/plain": [
              "jobcat      gender\n",
              "Manager     m          73\n",
              "            f          10\n",
              "Programmer  f         205\n",
              "            m         156\n",
              "Technician  m          27\n",
              "Name: gender, dtype: int64"
            ]
          },
          "metadata": {},
          "output_type": "display_data"
        },
        {
          "data": {
            "text/plain": [
              "<AxesSubplot:title={'center':'PC'}, xlabel='jobcat'>"
            ]
          },
          "execution_count": 38,
          "metadata": {},
          "output_type": "execute_result"
        },
        {
          "data": {
            "image/png": "[encoded data removed]",
            "text/plain": [
              "<Figure size 432x288 with 1 Axes>"
            ]
          },
          "metadata": {
            "needs_background": "light"
          },
          "output_type": "display_data"
        }
      ],
      "source": [
        "display(df.groupby(\"jobcat\")[\"gender\"].value_counts())\n",
        "df.groupby(\"jobcat\")[\"gender\"].value_counts().unstack().plot(kind=\"bar\",title=\"PC\")"
      ]
    },
    {
      "cell_type": "markdown",
      "metadata": {
        "id": "Au0JdnqByD1-"
      },
      "source": [
        "1.6. Вставьте вместо пропусков в колонку jobcat самое частое значение в этой колонке."
      ]
    },
    {
      "cell_type": "code",
      "execution_count": null,
      "metadata": {
        "id": "n5RF0a4ZyD1-"
      },
      "outputs": [],
      "source": [
        "#здесь написать ответ\n",
        "df[\"jobcat\"]= df[\"jobcat\"].fillna(df[\"jobcat\"].mode()[0])"
      ]
    },
    {
      "cell_type": "markdown",
      "metadata": {
        "id": "DyPiwyIpyD1-"
      },
      "source": [
        "1.7. Сравните средние зарплаты мужчин и женщин на разных должностях. Прокомментируйте полученные результаты."
      ]
    },
    {
      "cell_type": "code",
      "execution_count": null,
      "metadata": {
        "id": "g_WTJtvjyD1_",
        "outputId": "64cba119-cc32-40a5-d8cd-6cbed408fbc2"
      },
      "outputs": [
        {
          "name": "stdout",
          "output_type": "stream",
          "text": [
            "jobcat      gender\n",
            "Manager     f         47213.500000\n",
            "            m         65508.928571\n",
            "Programmer  f         25002.731707\n",
            "            m         31917.980769\n",
            "Technician  m         30946.153846\n",
            "Name: salary, dtype: float64\n"
          ]
        },
        {
          "data": {
            "text/plain": [
              "<AxesSubplot:title={'center':'PC'}, xlabel='jobcat'>"
            ]
          },
          "execution_count": 49,
          "metadata": {},
          "output_type": "execute_result"
        },
        {
          "data": {
            "image/png": "[encoded data removed]",
            "text/plain": [
              "<Figure size 432x288 with 1 Axes>"
            ]
          },
          "metadata": {
            "needs_background": "light"
          },
          "output_type": "display_data"
        }
      ],
      "source": [
        "#здесь написать ответ\n",
        "print(df.groupby([\"jobcat\",\"gender\"])[\"salary\"].mean())\n",
        "df.groupby([\"jobcat\",\"gender\"])[\"salary\"].mean().unstack().plot(kind=\"bar\",title=\"PC\")"
      ]
    },
    {
      "cell_type": "markdown",
      "metadata": {
        "id": "OkjSlm2byD1_"
      },
      "source": [
        "Зарплата женщин в целом ниже на всех должностях, женщин- механиков в фирме нет"
      ]
    },
    {
      "cell_type": "markdown",
      "metadata": {
        "id": "Y7ti_3STyD1_"
      },
      "source": [
        "1.8. Создайте и выведите новый датафрейм, в который войдут 10 мужчин-сотрудников с самой высокой заработной платой при приёме на работу. В нем строки должны быть отсортированы по заработной плате в порядке убывания, а индексом должны являться числа от 0 до 9 включительно. Оставьте в новом датафрейме (помимо индекса) только колонки id, gender, education, salary, salbegin"
      ]
    },
    {
      "cell_type": "code",
      "execution_count": null,
      "metadata": {
        "id": "Pmbgti3nyD1_",
        "outputId": "230a54b0-c972-4109-bbfe-c1f711b3fb96"
      },
      "outputs": [
        {
          "name": "stderr",
          "output_type": "stream",
          "text": [
            "<ipython-input-115-54c4b316bee0>:3: UserWarning: Boolean Series key will be reindexed to match DataFrame index.\n",
            "  dfnew1=(df.sort_values(by=[\"salbegin\"],ascending =[False])[df.jobcat==\"Programmer\"])[:10]\n",
            "<ipython-input-115-54c4b316bee0>:5: SettingWithCopyWarning: \n",
            "A value is trying to be set on a copy of a slice from a DataFrame.\n",
            "Try using .loc[row_indexer,col_indexer] = value instead\n",
            "\n",
            "See the caveats in the documentation: https://pandas.pydata.org/pandas-docs/stable/user_guide/indexing.html#returning-a-view-versus-a-copy\n",
            "  dfnew2[\"Id\"]=[0,1,2,3,4,5,6,7,8,9]\n"
          ]
        },
        {
          "data": {
            "text/html": [
              "<div>\n",
              "<style scoped>\n",
              "    .dataframe tbody tr th:only-of-type {\n",
              "        vertical-align: middle;\n",
              "    }\n",
              "\n",
              "    .dataframe tbody tr th {\n",
              "        vertical-align: top;\n",
              "    }\n",
              "\n",
              "    .dataframe thead th {\n",
              "        text-align: right;\n",
              "    }\n",
              "</style>\n",
              "<table border=\"1\" class=\"dataframe\">\n",
              "  <thead>\n",
              "    <tr style=\"text-align: right;\">\n",
              "      <th></th>\n",
              "      <th>gender</th>\n",
              "      <th>education</th>\n",
              "      <th>salary</th>\n",
              "      <th>salbegin</th>\n",
              "    </tr>\n",
              "    <tr>\n",
              "      <th>Id</th>\n",
              "      <th></th>\n",
              "      <th></th>\n",
              "      <th></th>\n",
              "      <th></th>\n",
              "    </tr>\n",
              "  </thead>\n",
              "  <tbody>\n",
              "    <tr>\n",
              "      <th>0</th>\n",
              "      <td>m</td>\n",
              "      <td>18</td>\n",
              "      <td>66875.0</td>\n",
              "      <td>31980.0</td>\n",
              "    </tr>\n",
              "    <tr>\n",
              "      <th>1</th>\n",
              "      <td>m</td>\n",
              "      <td>16</td>\n",
              "      <td>34620.0</td>\n",
              "      <td>27750.0</td>\n",
              "    </tr>\n",
              "    <tr>\n",
              "      <th>2</th>\n",
              "      <td>m</td>\n",
              "      <td>18</td>\n",
              "      <td>43950.0</td>\n",
              "      <td>23250.0</td>\n",
              "    </tr>\n",
              "    <tr>\n",
              "      <th>3</th>\n",
              "      <td>m</td>\n",
              "      <td>16</td>\n",
              "      <td>44875.0</td>\n",
              "      <td>21240.0</td>\n",
              "    </tr>\n",
              "    <tr>\n",
              "      <th>4</th>\n",
              "      <td>m</td>\n",
              "      <td>15</td>\n",
              "      <td>45000.0</td>\n",
              "      <td>21000.0</td>\n",
              "    </tr>\n",
              "    <tr>\n",
              "      <th>5</th>\n",
              "      <td>m</td>\n",
              "      <td>15</td>\n",
              "      <td>49000.0</td>\n",
              "      <td>20550.0</td>\n",
              "    </tr>\n",
              "    <tr>\n",
              "      <th>6</th>\n",
              "      <td>m</td>\n",
              "      <td>15</td>\n",
              "      <td>37500.0</td>\n",
              "      <td>20400.0</td>\n",
              "    </tr>\n",
              "    <tr>\n",
              "      <th>7</th>\n",
              "      <td>m</td>\n",
              "      <td>15</td>\n",
              "      <td>41100.0</td>\n",
              "      <td>20250.0</td>\n",
              "    </tr>\n",
              "    <tr>\n",
              "      <th>8</th>\n",
              "      <td>m</td>\n",
              "      <td>16</td>\n",
              "      <td>34950.0</td>\n",
              "      <td>20250.0</td>\n",
              "    </tr>\n",
              "    <tr>\n",
              "      <th>9</th>\n",
              "      <td>f</td>\n",
              "      <td>12</td>\n",
              "      <td>36000.0</td>\n",
              "      <td>19980.0</td>\n",
              "    </tr>\n",
              "  </tbody>\n",
              "</table>\n",
              "</div>"
            ],
            "text/plain": [
              "   gender  education   salary  salbegin\n",
              "Id                                     \n",
              "0       m         18  66875.0   31980.0\n",
              "1       m         16  34620.0   27750.0\n",
              "2       m         18  43950.0   23250.0\n",
              "3       m         16  44875.0   21240.0\n",
              "4       m         15  45000.0   21000.0\n",
              "5       m         15  49000.0   20550.0\n",
              "6       m         15  37500.0   20400.0\n",
              "7       m         15  41100.0   20250.0\n",
              "8       m         16  34950.0   20250.0\n",
              "9       f         12  36000.0   19980.0"
            ]
          },
          "execution_count": 115,
          "metadata": {},
          "output_type": "execute_result"
        }
      ],
      "source": [
        "#здесь написать ответ\n",
        "\n",
        "dfnew1=(df.sort_values(by=[\"salbegin\"],ascending =[False])[df.jobcat==\"Programmer\"])[:10]\n",
        "dfnew2=dfnew1[[\"gender\", \"education\", \"salary\", \"salbegin\"]]\n",
        "dfnew2[\"Id\"]=[0,1,2,3,4,5,6,7,8,9]\n",
        "dfnew2.set_index(\"Id\")"
      ]
    },
    {
      "cell_type": "markdown",
      "metadata": {
        "id": "boTxOxnSyD1_"
      },
      "source": [
        "1.9. Между какими двумя столбцами исходного датафрейма наблюдается самая сильная корреляция?"
      ]
    },
    {
      "cell_type": "code",
      "execution_count": null,
      "metadata": {
        "id": "_S6D0ElzyD2A",
        "outputId": "bfc4eda9-eb5b-4691-b022-d727fd581614"
      },
      "outputs": [
        {
          "data": {
            "text/html": [
              "<div>\n",
              "<style scoped>\n",
              "    .dataframe tbody tr th:only-of-type {\n",
              "        vertical-align: middle;\n",
              "    }\n",
              "\n",
              "    .dataframe tbody tr th {\n",
              "        vertical-align: top;\n",
              "    }\n",
              "\n",
              "    .dataframe thead th {\n",
              "        text-align: right;\n",
              "    }\n",
              "</style>\n",
              "<table border=\"1\" class=\"dataframe\">\n",
              "  <thead>\n",
              "    <tr style=\"text-align: right;\">\n",
              "      <th></th>\n",
              "      <th>education</th>\n",
              "      <th>salary</th>\n",
              "      <th>salbegin</th>\n",
              "      <th>jobtime</th>\n",
              "      <th>prevexp</th>\n",
              "    </tr>\n",
              "  </thead>\n",
              "  <tbody>\n",
              "    <tr>\n",
              "      <th>education</th>\n",
              "      <td>1.000000</td>\n",
              "      <td>0.654532</td>\n",
              "      <td>0.633266</td>\n",
              "      <td>0.047379</td>\n",
              "      <td>-0.286943</td>\n",
              "    </tr>\n",
              "    <tr>\n",
              "      <th>salary</th>\n",
              "      <td>0.654532</td>\n",
              "      <td>1.000000</td>\n",
              "      <td>0.877525</td>\n",
              "      <td>0.067227</td>\n",
              "      <td>-0.140432</td>\n",
              "    </tr>\n",
              "    <tr>\n",
              "      <th>salbegin</th>\n",
              "      <td>0.633266</td>\n",
              "      <td>0.877525</td>\n",
              "      <td>1.000000</td>\n",
              "      <td>-0.015768</td>\n",
              "      <td>0.010077</td>\n",
              "    </tr>\n",
              "    <tr>\n",
              "      <th>jobtime</th>\n",
              "      <td>0.047379</td>\n",
              "      <td>0.067227</td>\n",
              "      <td>-0.015768</td>\n",
              "      <td>1.000000</td>\n",
              "      <td>0.001925</td>\n",
              "    </tr>\n",
              "    <tr>\n",
              "      <th>prevexp</th>\n",
              "      <td>-0.286943</td>\n",
              "      <td>-0.140432</td>\n",
              "      <td>0.010077</td>\n",
              "      <td>0.001925</td>\n",
              "      <td>1.000000</td>\n",
              "    </tr>\n",
              "  </tbody>\n",
              "</table>\n",
              "</div>"
            ],
            "text/plain": [
              "           education    salary  salbegin   jobtime   prevexp\n",
              "education   1.000000  0.654532  0.633266  0.047379 -0.286943\n",
              "salary      0.654532  1.000000  0.877525  0.067227 -0.140432\n",
              "salbegin    0.633266  0.877525  1.000000 -0.015768  0.010077\n",
              "jobtime     0.047379  0.067227 -0.015768  1.000000  0.001925\n",
              "prevexp    -0.286943 -0.140432  0.010077  0.001925  1.000000"
            ]
          },
          "execution_count": 50,
          "metadata": {},
          "output_type": "execute_result"
        }
      ],
      "source": [
        "#здесь написать ответ\n",
        "df.corr()"
      ]
    },
    {
      "cell_type": "markdown",
      "metadata": {
        "id": "LB8q2rQEyD2A"
      },
      "source": [
        "Самая сильная корреляция наблюдается между начальной зарплатой и нынешней зарплатой, что в свою очередь логично, \n",
        "изначально высокие зарплаты вырастают еще больше (престижность фирм и тд)"
      ]
    },
    {
      "cell_type": "markdown",
      "metadata": {
        "id": "P0JGkDfTyD2A"
      },
      "source": [
        "1.10. Создайте переменную, которая бы показывала, увеличилась ли у сотрудника зарплата (1) или нет (0). "
      ]
    },
    {
      "cell_type": "code",
      "execution_count": null,
      "metadata": {
        "id": "_seQITtOyD2A",
        "outputId": "e0b6fcc3-7f85-4c52-a23a-d8a2b4ea49b8"
      },
      "outputs": [
        {
          "data": {
            "text/html": [
              "<div>\n",
              "<style scoped>\n",
              "    .dataframe tbody tr th:only-of-type {\n",
              "        vertical-align: middle;\n",
              "    }\n",
              "\n",
              "    .dataframe tbody tr th {\n",
              "        vertical-align: top;\n",
              "    }\n",
              "\n",
              "    .dataframe thead th {\n",
              "        text-align: right;\n",
              "    }\n",
              "</style>\n",
              "<table border=\"1\" class=\"dataframe\">\n",
              "  <thead>\n",
              "    <tr style=\"text-align: right;\">\n",
              "      <th></th>\n",
              "      <th>gender</th>\n",
              "      <th>marital</th>\n",
              "      <th>education</th>\n",
              "      <th>jobcat</th>\n",
              "      <th>salary</th>\n",
              "      <th>salbegin</th>\n",
              "      <th>jobtime</th>\n",
              "      <th>prevexp</th>\n",
              "      <th>minority</th>\n",
              "      <th>CategoryOfSalary</th>\n",
              "      <th>diff</th>\n",
              "      <th>SalaryIncrease</th>\n",
              "    </tr>\n",
              "    <tr>\n",
              "      <th>id</th>\n",
              "      <th></th>\n",
              "      <th></th>\n",
              "      <th></th>\n",
              "      <th></th>\n",
              "      <th></th>\n",
              "      <th></th>\n",
              "      <th></th>\n",
              "      <th></th>\n",
              "      <th></th>\n",
              "      <th></th>\n",
              "      <th></th>\n",
              "      <th></th>\n",
              "    </tr>\n",
              "  </thead>\n",
              "  <tbody>\n",
              "    <tr>\n",
              "      <th>1</th>\n",
              "      <td>m</td>\n",
              "      <td>married</td>\n",
              "      <td>15</td>\n",
              "      <td>Manager</td>\n",
              "      <td>57000.0</td>\n",
              "      <td>27000.0</td>\n",
              "      <td>98</td>\n",
              "      <td>144.0</td>\n",
              "      <td>No</td>\n",
              "      <td>high</td>\n",
              "      <td>30000.0</td>\n",
              "      <td>1</td>\n",
              "    </tr>\n",
              "    <tr>\n",
              "      <th>2</th>\n",
              "      <td>m</td>\n",
              "      <td>married</td>\n",
              "      <td>16</td>\n",
              "      <td>Programmer</td>\n",
              "      <td>40200.0</td>\n",
              "      <td>18750.0</td>\n",
              "      <td>98</td>\n",
              "      <td>36.0</td>\n",
              "      <td>No</td>\n",
              "      <td>high</td>\n",
              "      <td>21450.0</td>\n",
              "      <td>1</td>\n",
              "    </tr>\n",
              "    <tr>\n",
              "      <th>3</th>\n",
              "      <td>f</td>\n",
              "      <td>married</td>\n",
              "      <td>12</td>\n",
              "      <td>Programmer</td>\n",
              "      <td>21450.0</td>\n",
              "      <td>12000.0</td>\n",
              "      <td>98</td>\n",
              "      <td>381.0</td>\n",
              "      <td>No</td>\n",
              "      <td>low</td>\n",
              "      <td>9450.0</td>\n",
              "      <td>1</td>\n",
              "    </tr>\n",
              "    <tr>\n",
              "      <th>4</th>\n",
              "      <td>f</td>\n",
              "      <td>married</td>\n",
              "      <td>8</td>\n",
              "      <td>Programmer</td>\n",
              "      <td>21900.0</td>\n",
              "      <td>13200.0</td>\n",
              "      <td>98</td>\n",
              "      <td>190.0</td>\n",
              "      <td>No</td>\n",
              "      <td>low</td>\n",
              "      <td>8700.0</td>\n",
              "      <td>1</td>\n",
              "    </tr>\n",
              "    <tr>\n",
              "      <th>5</th>\n",
              "      <td>m</td>\n",
              "      <td>married</td>\n",
              "      <td>15</td>\n",
              "      <td>Programmer</td>\n",
              "      <td>45000.0</td>\n",
              "      <td>21000.0</td>\n",
              "      <td>98</td>\n",
              "      <td>138.0</td>\n",
              "      <td>No</td>\n",
              "      <td>high</td>\n",
              "      <td>24000.0</td>\n",
              "      <td>1</td>\n",
              "    </tr>\n",
              "    <tr>\n",
              "      <th>6</th>\n",
              "      <td>m</td>\n",
              "      <td>married</td>\n",
              "      <td>15</td>\n",
              "      <td>Programmer</td>\n",
              "      <td>32100.0</td>\n",
              "      <td>13500.0</td>\n",
              "      <td>98</td>\n",
              "      <td>67.0</td>\n",
              "      <td>No</td>\n",
              "      <td>good</td>\n",
              "      <td>18600.0</td>\n",
              "      <td>1</td>\n",
              "    </tr>\n",
              "    <tr>\n",
              "      <th>7</th>\n",
              "      <td>m</td>\n",
              "      <td>married</td>\n",
              "      <td>15</td>\n",
              "      <td>Programmer</td>\n",
              "      <td>36000.0</td>\n",
              "      <td>18750.0</td>\n",
              "      <td>98</td>\n",
              "      <td>114.0</td>\n",
              "      <td>No</td>\n",
              "      <td>good</td>\n",
              "      <td>17250.0</td>\n",
              "      <td>1</td>\n",
              "    </tr>\n",
              "    <tr>\n",
              "      <th>8</th>\n",
              "      <td>f</td>\n",
              "      <td>married</td>\n",
              "      <td>12</td>\n",
              "      <td>Programmer</td>\n",
              "      <td>21900.0</td>\n",
              "      <td>9750.0</td>\n",
              "      <td>98</td>\n",
              "      <td>NaN</td>\n",
              "      <td>No</td>\n",
              "      <td>low</td>\n",
              "      <td>12150.0</td>\n",
              "      <td>1</td>\n",
              "    </tr>\n",
              "    <tr>\n",
              "      <th>9</th>\n",
              "      <td>f</td>\n",
              "      <td>single</td>\n",
              "      <td>15</td>\n",
              "      <td>Programmer</td>\n",
              "      <td>27900.0</td>\n",
              "      <td>12750.0</td>\n",
              "      <td>98</td>\n",
              "      <td>115.0</td>\n",
              "      <td>No</td>\n",
              "      <td>middle</td>\n",
              "      <td>15150.0</td>\n",
              "      <td>1</td>\n",
              "    </tr>\n",
              "    <tr>\n",
              "      <th>10</th>\n",
              "      <td>f</td>\n",
              "      <td>single</td>\n",
              "      <td>12</td>\n",
              "      <td>Programmer</td>\n",
              "      <td>24000.0</td>\n",
              "      <td>13500.0</td>\n",
              "      <td>98</td>\n",
              "      <td>244.0</td>\n",
              "      <td>No</td>\n",
              "      <td>middle</td>\n",
              "      <td>10500.0</td>\n",
              "      <td>1</td>\n",
              "    </tr>\n",
              "  </tbody>\n",
              "</table>\n",
              "</div>"
            ],
            "text/plain": [
              "   gender  marital  education      jobcat   salary  salbegin  jobtime  \\\n",
              "id                                                                      \n",
              "1       m  married         15     Manager  57000.0   27000.0       98   \n",
              "2       m  married         16  Programmer  40200.0   18750.0       98   \n",
              "3       f  married         12  Programmer  21450.0   12000.0       98   \n",
              "4       f  married          8  Programmer  21900.0   13200.0       98   \n",
              "5       m  married         15  Programmer  45000.0   21000.0       98   \n",
              "6       m  married         15  Programmer  32100.0   13500.0       98   \n",
              "7       m  married         15  Programmer  36000.0   18750.0       98   \n",
              "8       f  married         12  Programmer  21900.0    9750.0       98   \n",
              "9       f   single         15  Programmer  27900.0   12750.0       98   \n",
              "10      f   single         12  Programmer  24000.0   13500.0       98   \n",
              "\n",
              "    prevexp minority CategoryOfSalary     diff  SalaryIncrease  \n",
              "id                                                              \n",
              "1     144.0       No             high  30000.0               1  \n",
              "2      36.0       No             high  21450.0               1  \n",
              "3     381.0       No              low   9450.0               1  \n",
              "4     190.0       No              low   8700.0               1  \n",
              "5     138.0       No             high  24000.0               1  \n",
              "6      67.0       No             good  18600.0               1  \n",
              "7     114.0       No             good  17250.0               1  \n",
              "8       NaN       No              low  12150.0               1  \n",
              "9     115.0       No           middle  15150.0               1  \n",
              "10    244.0       No           middle  10500.0               1  "
            ]
          },
          "execution_count": 90,
          "metadata": {},
          "output_type": "execute_result"
        }
      ],
      "source": [
        "#здесь написать ответ\n",
        "df['diff']=df['salary']-df[\"salbegin\"]\n",
        "df['SalaryIncrease'] = df['diff'].apply(lambda x: 1 if x > 0 else 0)\n",
        "df.head(10)"
      ]
    },
    {
      "cell_type": "markdown",
      "metadata": {
        "id": "aJi5ptxDyD2B"
      },
      "source": [
        "1.11. Перекодируйте переменную salary в переменную с порядковой шкалой, отражающую зарплатную группу, к которой относится сотрудник (должно быть не менее 5 групп). Постройте частотную таблицу по новой переменной. Прокомментируйте полученные результаты."
      ]
    },
    {
      "cell_type": "code",
      "execution_count": null,
      "metadata": {
        "id": "6UtjadTByD2B",
        "outputId": "993c7732-3639-4a28-987d-7a14ef96060c"
      },
      "outputs": [
        {
          "data": {
            "text/html": [
              "<div>\n",
              "<style scoped>\n",
              "    .dataframe tbody tr th:only-of-type {\n",
              "        vertical-align: middle;\n",
              "    }\n",
              "\n",
              "    .dataframe tbody tr th {\n",
              "        vertical-align: top;\n",
              "    }\n",
              "\n",
              "    .dataframe thead th {\n",
              "        text-align: right;\n",
              "    }\n",
              "</style>\n",
              "<table border=\"1\" class=\"dataframe\">\n",
              "  <thead>\n",
              "    <tr style=\"text-align: right;\">\n",
              "      <th></th>\n",
              "      <th>gender</th>\n",
              "      <th>marital</th>\n",
              "      <th>education</th>\n",
              "      <th>jobcat</th>\n",
              "      <th>salary</th>\n",
              "      <th>salbegin</th>\n",
              "      <th>jobtime</th>\n",
              "      <th>prevexp</th>\n",
              "      <th>minority</th>\n",
              "      <th>CategoryOfSalary</th>\n",
              "    </tr>\n",
              "    <tr>\n",
              "      <th>id</th>\n",
              "      <th></th>\n",
              "      <th></th>\n",
              "      <th></th>\n",
              "      <th></th>\n",
              "      <th></th>\n",
              "      <th></th>\n",
              "      <th></th>\n",
              "      <th></th>\n",
              "      <th></th>\n",
              "      <th></th>\n",
              "    </tr>\n",
              "  </thead>\n",
              "  <tbody>\n",
              "    <tr>\n",
              "      <th>1</th>\n",
              "      <td>m</td>\n",
              "      <td>married</td>\n",
              "      <td>15</td>\n",
              "      <td>Manager</td>\n",
              "      <td>57000.0</td>\n",
              "      <td>27000.0</td>\n",
              "      <td>98</td>\n",
              "      <td>144.0</td>\n",
              "      <td>No</td>\n",
              "      <td>high</td>\n",
              "    </tr>\n",
              "    <tr>\n",
              "      <th>2</th>\n",
              "      <td>m</td>\n",
              "      <td>married</td>\n",
              "      <td>16</td>\n",
              "      <td>Programmer</td>\n",
              "      <td>40200.0</td>\n",
              "      <td>18750.0</td>\n",
              "      <td>98</td>\n",
              "      <td>36.0</td>\n",
              "      <td>No</td>\n",
              "      <td>high</td>\n",
              "    </tr>\n",
              "    <tr>\n",
              "      <th>3</th>\n",
              "      <td>f</td>\n",
              "      <td>married</td>\n",
              "      <td>12</td>\n",
              "      <td>Programmer</td>\n",
              "      <td>21450.0</td>\n",
              "      <td>12000.0</td>\n",
              "      <td>98</td>\n",
              "      <td>381.0</td>\n",
              "      <td>No</td>\n",
              "      <td>low</td>\n",
              "    </tr>\n",
              "    <tr>\n",
              "      <th>4</th>\n",
              "      <td>f</td>\n",
              "      <td>married</td>\n",
              "      <td>8</td>\n",
              "      <td>Programmer</td>\n",
              "      <td>21900.0</td>\n",
              "      <td>13200.0</td>\n",
              "      <td>98</td>\n",
              "      <td>190.0</td>\n",
              "      <td>No</td>\n",
              "      <td>low</td>\n",
              "    </tr>\n",
              "    <tr>\n",
              "      <th>5</th>\n",
              "      <td>m</td>\n",
              "      <td>married</td>\n",
              "      <td>15</td>\n",
              "      <td>Programmer</td>\n",
              "      <td>45000.0</td>\n",
              "      <td>21000.0</td>\n",
              "      <td>98</td>\n",
              "      <td>138.0</td>\n",
              "      <td>No</td>\n",
              "      <td>high</td>\n",
              "    </tr>\n",
              "    <tr>\n",
              "      <th>6</th>\n",
              "      <td>m</td>\n",
              "      <td>married</td>\n",
              "      <td>15</td>\n",
              "      <td>Programmer</td>\n",
              "      <td>32100.0</td>\n",
              "      <td>13500.0</td>\n",
              "      <td>98</td>\n",
              "      <td>67.0</td>\n",
              "      <td>No</td>\n",
              "      <td>good</td>\n",
              "    </tr>\n",
              "    <tr>\n",
              "      <th>7</th>\n",
              "      <td>m</td>\n",
              "      <td>married</td>\n",
              "      <td>15</td>\n",
              "      <td>Programmer</td>\n",
              "      <td>36000.0</td>\n",
              "      <td>18750.0</td>\n",
              "      <td>98</td>\n",
              "      <td>114.0</td>\n",
              "      <td>No</td>\n",
              "      <td>good</td>\n",
              "    </tr>\n",
              "    <tr>\n",
              "      <th>8</th>\n",
              "      <td>f</td>\n",
              "      <td>married</td>\n",
              "      <td>12</td>\n",
              "      <td>Programmer</td>\n",
              "      <td>21900.0</td>\n",
              "      <td>9750.0</td>\n",
              "      <td>98</td>\n",
              "      <td>NaN</td>\n",
              "      <td>No</td>\n",
              "      <td>low</td>\n",
              "    </tr>\n",
              "    <tr>\n",
              "      <th>9</th>\n",
              "      <td>f</td>\n",
              "      <td>single</td>\n",
              "      <td>15</td>\n",
              "      <td>Programmer</td>\n",
              "      <td>27900.0</td>\n",
              "      <td>12750.0</td>\n",
              "      <td>98</td>\n",
              "      <td>115.0</td>\n",
              "      <td>No</td>\n",
              "      <td>middle</td>\n",
              "    </tr>\n",
              "    <tr>\n",
              "      <th>10</th>\n",
              "      <td>f</td>\n",
              "      <td>single</td>\n",
              "      <td>12</td>\n",
              "      <td>Programmer</td>\n",
              "      <td>24000.0</td>\n",
              "      <td>13500.0</td>\n",
              "      <td>98</td>\n",
              "      <td>244.0</td>\n",
              "      <td>No</td>\n",
              "      <td>middle</td>\n",
              "    </tr>\n",
              "    <tr>\n",
              "      <th>11</th>\n",
              "      <td>f</td>\n",
              "      <td>married</td>\n",
              "      <td>16</td>\n",
              "      <td>Programmer</td>\n",
              "      <td>30300.0</td>\n",
              "      <td>16500.0</td>\n",
              "      <td>98</td>\n",
              "      <td>143.0</td>\n",
              "      <td>No</td>\n",
              "      <td>good</td>\n",
              "    </tr>\n",
              "    <tr>\n",
              "      <th>12</th>\n",
              "      <td>m</td>\n",
              "      <td>single</td>\n",
              "      <td>8</td>\n",
              "      <td>Programmer</td>\n",
              "      <td>NaN</td>\n",
              "      <td>12000.0</td>\n",
              "      <td>98</td>\n",
              "      <td>26.0</td>\n",
              "      <td>Yes</td>\n",
              "      <td>low</td>\n",
              "    </tr>\n",
              "    <tr>\n",
              "      <th>13</th>\n",
              "      <td>m</td>\n",
              "      <td>single</td>\n",
              "      <td>15</td>\n",
              "      <td>Programmer</td>\n",
              "      <td>27750.0</td>\n",
              "      <td>14250.0</td>\n",
              "      <td>98</td>\n",
              "      <td>34.0</td>\n",
              "      <td>Yes</td>\n",
              "      <td>middle</td>\n",
              "    </tr>\n",
              "    <tr>\n",
              "      <th>14</th>\n",
              "      <td>f</td>\n",
              "      <td>divorced</td>\n",
              "      <td>15</td>\n",
              "      <td>Programmer</td>\n",
              "      <td>35100.0</td>\n",
              "      <td>16800.0</td>\n",
              "      <td>98</td>\n",
              "      <td>137.0</td>\n",
              "      <td>Yes</td>\n",
              "      <td>good</td>\n",
              "    </tr>\n",
              "    <tr>\n",
              "      <th>15</th>\n",
              "      <td>m</td>\n",
              "      <td>married</td>\n",
              "      <td>12</td>\n",
              "      <td>Programmer</td>\n",
              "      <td>27300.0</td>\n",
              "      <td>13500.0</td>\n",
              "      <td>97</td>\n",
              "      <td>66.0</td>\n",
              "      <td>No</td>\n",
              "      <td>middle</td>\n",
              "    </tr>\n",
              "  </tbody>\n",
              "</table>\n",
              "</div>"
            ],
            "text/plain": [
              "   gender   marital  education      jobcat   salary  salbegin  jobtime  \\\n",
              "id                                                                       \n",
              "1       m   married         15     Manager  57000.0   27000.0       98   \n",
              "2       m   married         16  Programmer  40200.0   18750.0       98   \n",
              "3       f   married         12  Programmer  21450.0   12000.0       98   \n",
              "4       f   married          8  Programmer  21900.0   13200.0       98   \n",
              "5       m   married         15  Programmer  45000.0   21000.0       98   \n",
              "6       m   married         15  Programmer  32100.0   13500.0       98   \n",
              "7       m   married         15  Programmer  36000.0   18750.0       98   \n",
              "8       f   married         12  Programmer  21900.0    9750.0       98   \n",
              "9       f    single         15  Programmer  27900.0   12750.0       98   \n",
              "10      f    single         12  Programmer  24000.0   13500.0       98   \n",
              "11      f   married         16  Programmer  30300.0   16500.0       98   \n",
              "12      m    single          8  Programmer      NaN   12000.0       98   \n",
              "13      m    single         15  Programmer  27750.0   14250.0       98   \n",
              "14      f  divorced         15  Programmer  35100.0   16800.0       98   \n",
              "15      m   married         12  Programmer  27300.0   13500.0       97   \n",
              "\n",
              "    prevexp minority CategoryOfSalary  \n",
              "id                                     \n",
              "1     144.0       No             high  \n",
              "2      36.0       No             high  \n",
              "3     381.0       No              low  \n",
              "4     190.0       No              low  \n",
              "5     138.0       No             high  \n",
              "6      67.0       No             good  \n",
              "7     114.0       No             good  \n",
              "8       NaN       No              low  \n",
              "9     115.0       No           middle  \n",
              "10    244.0       No           middle  \n",
              "11    143.0       No             good  \n",
              "12     26.0      Yes              low  \n",
              "13     34.0      Yes           middle  \n",
              "14    137.0      Yes             good  \n",
              "15     66.0       No           middle  "
            ]
          },
          "execution_count": 89,
          "metadata": {},
          "output_type": "execute_result"
        }
      ],
      "source": [
        "#здесь написать ответ\n",
        "df['CategoryOfSalary'] = df['salary'].apply(lambda x: 'very high' if x >= 135000 else 'high' if x >= 36375 else 'good' if x >= 28800 else 'middle' if x >= 24000 else 'low')\n",
        "df.head(15)"
      ]
    },
    {
      "cell_type": "markdown",
      "metadata": {
        "id": "NnDiapkuyD2B"
      },
      "source": [
        "Зарплата была разбита на 6 категорий , пороговые значения категорий основаны на квартилей в discribe() "
      ]
    },
    {
      "cell_type": "markdown",
      "metadata": {
        "id": "zHTtIHWJyD2B"
      },
      "source": [
        "1.12. Постройте сводные таблицы (не менее двух таблиц). Прокомментируйте полученные результаты, какие тенденции в распределении значений переменных они отражают?"
      ]
    },
    {
      "cell_type": "code",
      "execution_count": null,
      "metadata": {
        "id": "MryoFMk3yD2B",
        "outputId": "a84362de-e23b-40b1-a69e-f5899a3ada1f"
      },
      "outputs": [
        {
          "data": {
            "text/html": [
              "<div>\n",
              "<style scoped>\n",
              "    .dataframe tbody tr th:only-of-type {\n",
              "        vertical-align: middle;\n",
              "    }\n",
              "\n",
              "    .dataframe tbody tr th {\n",
              "        vertical-align: top;\n",
              "    }\n",
              "\n",
              "    .dataframe thead th {\n",
              "        text-align: right;\n",
              "    }\n",
              "</style>\n",
              "<table border=\"1\" class=\"dataframe\">\n",
              "  <thead>\n",
              "    <tr style=\"text-align: right;\">\n",
              "      <th></th>\n",
              "      <th>education</th>\n",
              "      <th>jobtime</th>\n",
              "      <th>prevexp</th>\n",
              "    </tr>\n",
              "    <tr>\n",
              "      <th>salary</th>\n",
              "      <th></th>\n",
              "      <th></th>\n",
              "      <th></th>\n",
              "    </tr>\n",
              "  </thead>\n",
              "  <tbody>\n",
              "    <tr>\n",
              "      <th>15750.0</th>\n",
              "      <td>8.0</td>\n",
              "      <td>70.00</td>\n",
              "      <td>275.000000</td>\n",
              "    </tr>\n",
              "    <tr>\n",
              "      <th>19200.0</th>\n",
              "      <td>13.5</td>\n",
              "      <td>89.50</td>\n",
              "      <td>15.000000</td>\n",
              "    </tr>\n",
              "    <tr>\n",
              "      <th>21900.0</th>\n",
              "      <td>11.0</td>\n",
              "      <td>91.40</td>\n",
              "      <td>129.000000</td>\n",
              "    </tr>\n",
              "    <tr>\n",
              "      <th>24150.0</th>\n",
              "      <td>12.5</td>\n",
              "      <td>80.00</td>\n",
              "      <td>77.666667</td>\n",
              "    </tr>\n",
              "    <tr>\n",
              "      <th>26400.0</th>\n",
              "      <td>13.5</td>\n",
              "      <td>83.75</td>\n",
              "      <td>23.666667</td>\n",
              "    </tr>\n",
              "    <tr>\n",
              "      <th>28650.0</th>\n",
              "      <td>15.0</td>\n",
              "      <td>79.00</td>\n",
              "      <td>261.000000</td>\n",
              "    </tr>\n",
              "    <tr>\n",
              "      <th>30450.0</th>\n",
              "      <td>12.0</td>\n",
              "      <td>91.00</td>\n",
              "      <td>49.000000</td>\n",
              "    </tr>\n",
              "    <tr>\n",
              "      <th>33150.0</th>\n",
              "      <td>15.0</td>\n",
              "      <td>83.00</td>\n",
              "      <td>69.000000</td>\n",
              "    </tr>\n",
              "    <tr>\n",
              "      <th>36000.0</th>\n",
              "      <td>15.5</td>\n",
              "      <td>86.50</td>\n",
              "      <td>105.250000</td>\n",
              "    </tr>\n",
              "    <tr>\n",
              "      <th>40050.0</th>\n",
              "      <td>15.0</td>\n",
              "      <td>78.00</td>\n",
              "      <td>133.000000</td>\n",
              "    </tr>\n",
              "    <tr>\n",
              "      <th>45150.0</th>\n",
              "      <td>15.0</td>\n",
              "      <td>94.00</td>\n",
              "      <td>40.000000</td>\n",
              "    </tr>\n",
              "    <tr>\n",
              "      <th>52125.0</th>\n",
              "      <td>19.0</td>\n",
              "      <td>80.00</td>\n",
              "      <td>221.000000</td>\n",
              "    </tr>\n",
              "    <tr>\n",
              "      <th>58750.0</th>\n",
              "      <td>16.0</td>\n",
              "      <td>84.00</td>\n",
              "      <td>13.000000</td>\n",
              "    </tr>\n",
              "    <tr>\n",
              "      <th>68125.0</th>\n",
              "      <td>18.5</td>\n",
              "      <td>79.00</td>\n",
              "      <td>32.000000</td>\n",
              "    </tr>\n",
              "    <tr>\n",
              "      <th>90625.0</th>\n",
              "      <td>19.0</td>\n",
              "      <td>65.00</td>\n",
              "      <td>18.000000</td>\n",
              "    </tr>\n",
              "  </tbody>\n",
              "</table>\n",
              "</div>"
            ],
            "text/plain": [
              "         education  jobtime     prevexp\n",
              "salary                                 \n",
              "15750.0        8.0    70.00  275.000000\n",
              "19200.0       13.5    89.50   15.000000\n",
              "21900.0       11.0    91.40  129.000000\n",
              "24150.0       12.5    80.00   77.666667\n",
              "26400.0       13.5    83.75   23.666667\n",
              "28650.0       15.0    79.00  261.000000\n",
              "30450.0       12.0    91.00   49.000000\n",
              "33150.0       15.0    83.00   69.000000\n",
              "36000.0       15.5    86.50  105.250000\n",
              "40050.0       15.0    78.00  133.000000\n",
              "45150.0       15.0    94.00   40.000000\n",
              "52125.0       19.0    80.00  221.000000\n",
              "58750.0       16.0    84.00   13.000000\n",
              "68125.0       18.5    79.00   32.000000\n",
              "90625.0       19.0    65.00   18.000000"
            ]
          },
          "execution_count": 101,
          "metadata": {},
          "output_type": "execute_result"
        }
      ],
      "source": [
        "#здесь написать ответ\n",
        "pts=df.pivot_table(['education', 'jobtime','prevexp'], index=['salary'], aggfunc='mean')\n",
        "pts[::15]"
      ]
    },
    {
      "cell_type": "markdown",
      "metadata": {
        "id": "a8ZfFVg8yD2B"
      },
      "source": [
        "Можем заметить , что зарплата имеет некую прямую зависимость от годов обучения, говорит о том что образование себя не исчерпало и по прежнему важно\n",
        "Зарплата не зависит от времени с момент найма"
      ]
    },
    {
      "cell_type": "code",
      "execution_count": null,
      "metadata": {
        "id": "dcxKtCl_yD2C",
        "outputId": "f83c696f-f8be-4889-8896-70e78998fc43"
      },
      "outputs": [
        {
          "data": {
            "text/html": [
              "<div>\n",
              "<style scoped>\n",
              "    .dataframe tbody tr th:only-of-type {\n",
              "        vertical-align: middle;\n",
              "    }\n",
              "\n",
              "    .dataframe tbody tr th {\n",
              "        vertical-align: top;\n",
              "    }\n",
              "\n",
              "    .dataframe thead th {\n",
              "        text-align: right;\n",
              "    }\n",
              "</style>\n",
              "<table border=\"1\" class=\"dataframe\">\n",
              "  <thead>\n",
              "    <tr style=\"text-align: right;\">\n",
              "      <th>gender</th>\n",
              "      <th>f</th>\n",
              "      <th>m</th>\n",
              "    </tr>\n",
              "    <tr>\n",
              "      <th>marital</th>\n",
              "      <th></th>\n",
              "      <th></th>\n",
              "    </tr>\n",
              "  </thead>\n",
              "  <tbody>\n",
              "    <tr>\n",
              "      <th>divorced</th>\n",
              "      <td>29099.464286</td>\n",
              "      <td>38452.083333</td>\n",
              "    </tr>\n",
              "    <tr>\n",
              "      <th>married</th>\n",
              "      <td>25836.965517</td>\n",
              "      <td>41326.338798</td>\n",
              "    </tr>\n",
              "    <tr>\n",
              "      <th>single</th>\n",
              "      <td>24713.750000</td>\n",
              "      <td>42126.363636</td>\n",
              "    </tr>\n",
              "    <tr>\n",
              "      <th>unknown</th>\n",
              "      <td>24000.000000</td>\n",
              "      <td>30300.000000</td>\n",
              "    </tr>\n",
              "  </tbody>\n",
              "</table>\n",
              "</div>"
            ],
            "text/plain": [
              "gender               f             m\n",
              "marital                             \n",
              "divorced  29099.464286  38452.083333\n",
              "married   25836.965517  41326.338798\n",
              "single    24713.750000  42126.363636\n",
              "unknown   24000.000000  30300.000000"
            ]
          },
          "execution_count": 159,
          "metadata": {},
          "output_type": "execute_result"
        }
      ],
      "source": [
        "df.groupby([\"marital\",\"gender\"])[\"salary\"].mean().unstack()"
      ]
    },
    {
      "cell_type": "markdown",
      "metadata": {
        "id": "8fxeALeTyD2C"
      },
      "source": [
        "У Женатых мужчин самамя высокая зарплата (взможно есть связь с возрастом)"
      ]
    },
    {
      "cell_type": "markdown",
      "metadata": {
        "id": "h1XP6Iu8yD2C"
      },
      "source": [
        "1.13. Сравните внешний вид распределения зарплат сотрудников на разных должностях. Опишите как эти распределения отличаются от нормального распределения.  Сделайте выводы."
      ]
    },
    {
      "cell_type": "code",
      "execution_count": null,
      "metadata": {
        "id": "edBGk-DEyD2C",
        "outputId": "4df66d9a-6a6e-4059-ad27-82df8c06a935"
      },
      "outputs": [
        {
          "name": "stderr",
          "output_type": "stream",
          "text": [
            "/Users/vitaminka/opt/anaconda3/lib/python3.8/site-packages/seaborn/distributions.py:2557: FutureWarning: `distplot` is a deprecated function and will be removed in a future version. Please adapt your code to use either `displot` (a figure-level function with similar flexibility) or `histplot` (an axes-level function for histograms).\n",
            "  warnings.warn(msg, FutureWarning)\n",
            "/Users/vitaminka/opt/anaconda3/lib/python3.8/site-packages/seaborn/distributions.py:2557: FutureWarning: `distplot` is a deprecated function and will be removed in a future version. Please adapt your code to use either `displot` (a figure-level function with similar flexibility) or `histplot` (an axes-level function for histograms).\n",
            "  warnings.warn(msg, FutureWarning)\n",
            "/Users/vitaminka/opt/anaconda3/lib/python3.8/site-packages/seaborn/distributions.py:2557: FutureWarning: `distplot` is a deprecated function and will be removed in a future version. Please adapt your code to use either `displot` (a figure-level function with similar flexibility) or `histplot` (an axes-level function for histograms).\n",
            "  warnings.warn(msg, FutureWarning)\n"
          ]
        },
        {
          "data": {
            "text/plain": [
              "<AxesSubplot:xlabel='salary', ylabel='Density'>"
            ]
          },
          "execution_count": 84,
          "metadata": {},
          "output_type": "execute_result"
        },
        {
          "data": {
            "image/png": "[encoded data removed]",
            "text/plain": [
              "<Figure size 432x288 with 1 Axes>"
            ]
          },
          "metadata": {
            "needs_background": "light"
          },
          "output_type": "display_data"
        }
      ],
      "source": [
        "#здесь написать ответ\n",
        "import seaborn as sns\n",
        "from scipy.stats import norm\n",
        "sns.distplot(df[df.jobcat==\"Programmer\"].salary.dropna(), fit=norm)\n",
        "sns.distplot(df[df.jobcat==\"Manager\"].salary.dropna(), fit=norm)\n",
        "sns.distplot(df[df.jobcat==\"Technician\"].salary.dropna(), fit=norm)"
      ]
    },
    {
      "cell_type": "code",
      "execution_count": null,
      "metadata": {
        "id": "Rb6bj4QAyD2C",
        "outputId": "3e9e1bcc-9933-46cc-a0df-937456ead12e"
      },
      "outputs": [
        {
          "name": "stderr",
          "output_type": "stream",
          "text": [
            "/Users/vitaminka/opt/anaconda3/lib/python3.8/site-packages/seaborn/distributions.py:2557: FutureWarning: `distplot` is a deprecated function and will be removed in a future version. Please adapt your code to use either `displot` (a figure-level function with similar flexibility) or `histplot` (an axes-level function for histograms).\n",
            "  warnings.warn(msg, FutureWarning)\n"
          ]
        },
        {
          "data": {
            "text/plain": [
              "<AxesSubplot:xlabel='salary', ylabel='Density'>"
            ]
          },
          "execution_count": 59,
          "metadata": {},
          "output_type": "execute_result"
        },
        {
          "data": {
            "image/png": "[encoded data removed]",
            "text/plain": [
              "<Figure size 432x288 with 1 Axes>"
            ]
          },
          "metadata": {
            "needs_background": "light"
          },
          "output_type": "display_data"
        }
      ],
      "source": [
        "sns.distplot(df[df.jobcat==\"Programmer\"].salary.dropna(), fit=norm)"
      ]
    },
    {
      "cell_type": "code",
      "execution_count": null,
      "metadata": {
        "id": "Vj3MMccCyD2D",
        "outputId": "5643d1da-dcaf-4da2-8f98-359a8e17dd0a"
      },
      "outputs": [
        {
          "name": "stderr",
          "output_type": "stream",
          "text": [
            "/Users/vitaminka/opt/anaconda3/lib/python3.8/site-packages/seaborn/distributions.py:2557: FutureWarning: `distplot` is a deprecated function and will be removed in a future version. Please adapt your code to use either `displot` (a figure-level function with similar flexibility) or `histplot` (an axes-level function for histograms).\n",
            "  warnings.warn(msg, FutureWarning)\n"
          ]
        },
        {
          "data": {
            "text/plain": [
              "<AxesSubplot:xlabel='salary', ylabel='Density'>"
            ]
          },
          "execution_count": 60,
          "metadata": {},
          "output_type": "execute_result"
        },
        {
          "data": {
            "image/png": "[encoded data removed]",
            "text/plain": [
              "<Figure size 432x288 with 1 Axes>"
            ]
          },
          "metadata": {
            "needs_background": "light"
          },
          "output_type": "display_data"
        }
      ],
      "source": [
        "sns.distplot(df[df.jobcat==\"Manager\"].salary.dropna(), fit=norm)"
      ]
    },
    {
      "cell_type": "code",
      "execution_count": null,
      "metadata": {
        "id": "V8jnbG2iyD2D",
        "outputId": "60706ea1-f639-4f08-a658-8164df0ae410"
      },
      "outputs": [
        {
          "name": "stderr",
          "output_type": "stream",
          "text": [
            "/Users/vitaminka/opt/anaconda3/lib/python3.8/site-packages/seaborn/distributions.py:2557: FutureWarning: `distplot` is a deprecated function and will be removed in a future version. Please adapt your code to use either `displot` (a figure-level function with similar flexibility) or `histplot` (an axes-level function for histograms).\n",
            "  warnings.warn(msg, FutureWarning)\n"
          ]
        },
        {
          "data": {
            "text/plain": [
              "<AxesSubplot:xlabel='salary', ylabel='Density'>"
            ]
          },
          "execution_count": 61,
          "metadata": {},
          "output_type": "execute_result"
        },
        {
          "data": {
            "image/png": "[encoded data removed]",
            "text/plain": [
              "<Figure size 432x288 with 1 Axes>"
            ]
          },
          "metadata": {
            "needs_background": "light"
          },
          "output_type": "display_data"
        }
      ],
      "source": [
        "sns.distplot(df[df.jobcat==\"Technician\"].salary.dropna(), fit=norm)"
      ]
    },
    {
      "cell_type": "code",
      "execution_count": null,
      "metadata": {
        "id": "DMfXKmeCyD2D"
      },
      "outputs": [],
      "source": [
        ""
      ]
    },
    {
      "cell_type": "markdown",
      "metadata": {
        "id": "wjrJgEZuyD2D"
      },
      "source": [
        "Во всех пунктах можем увидеть отклонения от стандарта в левую сторону распределения \n",
        "Отклонения не сильное в распределение зарплат, дело фирм ( но в идеале стоит увеличить зарплаты некоторой части фирмы)"
      ]
    },
    {
      "cell_type": "markdown",
      "metadata": {
        "id": "1rixQoOyyD2D"
      },
      "source": [
        "1.14. Постройте столбиковую и круговую диаграммы по категориальным переменным. Постройте столбиковую диаграмму с накоплением (stacked). Прокомментируйте наблюдаемые на графиках тенденции."
      ]
    },
    {
      "cell_type": "code",
      "execution_count": null,
      "metadata": {
        "id": "LxOrtlvfyD2D",
        "outputId": "5cb263e9-80fe-4e5e-f061-78121c9dc972"
      },
      "outputs": [
        {
          "data": {
            "text/plain": [
              "<AxesSubplot:title={'center':'PC'}, ylabel='None'>"
            ]
          },
          "execution_count": 92,
          "metadata": {},
          "output_type": "execute_result"
        },
        {
          "data": {
            "image/png": "[encoded data removed]",
            "text/plain": [
              "<Figure size 432x288 with 1 Axes>"
            ]
          },
          "metadata": {},
          "output_type": "display_data"
        }
      ],
      "source": [
        "df.groupby(\"CategoryOfSalary\").size().plot(kind=\"pie\",title=\"PC\")\n",
        "#Еще раз продемонстрировать правильность дробления количественной переменной"
      ]
    },
    {
      "cell_type": "code",
      "execution_count": null,
      "metadata": {
        "id": "QIz7beDSyD2E",
        "outputId": "654138be-0791-4b3c-9991-a79e41692c34"
      },
      "outputs": [
        {
          "data": {
            "text/plain": [
              "<AxesSubplot:title={'center':'PC'}, ylabel='None'>"
            ]
          },
          "execution_count": 93,
          "metadata": {},
          "output_type": "execute_result"
        },
        {
          "data": {
            "image/png": "[encoded data removed]",
            "text/plain": [
              "<Figure size 432x288 with 1 Axes>"
            ]
          },
          "metadata": {},
          "output_type": "display_data"
        }
      ],
      "source": [
        "df.groupby(\"jobcat\").size().plot(kind=\"pie\",title=\"PC\")"
      ]
    },
    {
      "cell_type": "code",
      "execution_count": null,
      "metadata": {
        "id": "6ad7XYtqyD2E",
        "outputId": "ae070d48-3b69-41e0-bea2-d2031962aa9c"
      },
      "outputs": [
        {
          "data": {
            "application/vnd.plotly.v1+json": {
              "config": {
                "plotlyServerURL": "https://plot.ly"
              },
              "data": [
                {
                  "type": "histogram",
                  "x": [
                    "Manager",
                    "Programmer",
                    "Programmer",
                    "Programmer",
                    "Programmer",
                    "Programmer",
                    "Programmer",
                    "Programmer",
                    "Programmer",
                    "Programmer",
                    "Programmer",
                    "Programmer",
                    "Programmer",
                    "Programmer",
                    "Programmer",
                    "Programmer",
                    "Programmer",
                    "Manager",
                    "Programmer",
                    "Programmer",
                    "Programmer",
                    "Programmer",
                    "Programmer",
                    "Programmer",
                    "Programmer",
                    "Programmer",
                    "Manager",
                    "Programmer",
                    "Manager",
                    "Programmer",
                    null,
                    "Manager",
                    "Programmer",
                    "Manager",
                    "Manager",
                    "Programmer",
                    "Programmer",
                    "Programmer",
                    "Programmer",
                    "Programmer",
                    "Programmer",
                    "Programmer",
                    "Programmer",
                    "Programmer",
                    "Technician",
                    "Programmer",
                    "Programmer",
                    "Technician",
                    "Programmer",
                    "Manager",
                    "Programmer",
                    "Programmer",
                    "Manager",
                    "Programmer",
                    "Programmer",
                    "Programmer",
                    "Programmer",
                    "Programmer",
                    "Programmer",
                    "Programmer",
                    "Programmer",
                    "Manager",
                    "Manager",
                    "Manager",
                    "Programmer",
                    null,
                    "Manager",
                    "Manager",
                    "Manager",
                    "Programmer",
                    "Manager",
                    "Programmer",
                    "Programmer",
                    "Programmer",
                    "Programmer",
                    "Programmer",
                    "Programmer",
                    "Programmer",
                    "Programmer",
                    "Programmer",
                    "Programmer",
                    "Programmer",
                    "Programmer",
                    "Programmer",
                    "Programmer",
                    "Programmer",
                    "Programmer",
                    "Manager",
                    "Manager",
                    null,
                    "Programmer",
                    "Programmer",
                    "Programmer",
                    "Programmer",
                    "Programmer",
                    "Technician",
                    "Programmer",
                    "Technician",
                    "Programmer",
                    "Manager",
                    "Manager",
                    "Programmer",
                    "Manager",
                    "Programmer",
                    "Programmer",
                    "Manager",
                    "Programmer",
                    "Programmer",
                    "Programmer",
                    "Programmer",
                    "Technician",
                    "Technician",
                    "Manager",
                    "Programmer",
                    "Programmer",
                    "Programmer",
                    "Programmer",
                    "Programmer",
                    "Programmer",
                    "Manager",
                    "Programmer",
                    "Programmer",
                    "Programmer",
                    "Programmer",
                    "Programmer",
                    "Technician",
                    "Technician",
                    "Programmer",
                    "Manager",
                    "Manager",
                    "Programmer",
                    "Programmer",
                    "Programmer",
                    "Manager",
                    "Programmer",
                    "Programmer",
                    "Manager",
                    "Programmer",
                    "Programmer",
                    "Programmer",
                    "Programmer",
                    "Programmer",
                    "Programmer",
                    "Programmer",
                    "Programmer",
                    "Programmer",
                    "Programmer",
                    "Programmer",
                    "Programmer",
                    "Programmer",
                    "Manager",
                    "Technician",
                    "Programmer",
                    "Programmer",
                    "Programmer",
                    "Programmer",
                    "Programmer",
                    "Programmer",
                    "Programmer",
                    "Manager",
                    "Programmer",
                    "Manager",
                    "Programmer",
                    "Programmer",
                    "Programmer",
                    "Programmer",
                    "Programmer",
                    "Manager",
                    "Programmer",
                    "Programmer",
                    "Programmer",
                    "Programmer",
                    "Manager",
                    "Technician",
                    "Programmer",
                    "Programmer",
                    "Programmer",
                    "Programmer",
                    "Programmer",
                    "Programmer",
                    "Programmer",
                    "Programmer",
                    "Programmer",
                    "Programmer",
                    "Technician",
                    "Programmer",
                    "Manager",
                    "Programmer",
                    "Programmer",
                    "Programmer",
                    "Programmer",
                    "Programmer",
                    "Programmer",
                    "Programmer",
                    "Programmer",
                    "Programmer",
                    "Manager",
                    "Manager",
                    "Manager",
                    "Manager",
                    "Programmer",
                    "Programmer",
                    "Programmer",
                    "Programmer",
                    "Manager",
                    "Technician",
                    "Programmer",
                    "Programmer",
                    "Programmer",
                    "Programmer",
                    "Programmer",
                    "Programmer",
                    "Technician",
                    "Programmer",
                    "Programmer",
                    "Programmer",
                    "Programmer",
                    "Programmer",
                    "Programmer",
                    "Programmer",
                    "Programmer",
                    "Programmer",
                    "Programmer",
                    "Programmer",
                    "Programmer",
                    "Programmer",
                    "Programmer",
                    "Programmer",
                    "Programmer",
                    "Programmer",
                    "Manager",
                    "Manager",
                    "Programmer",
                    "Programmer",
                    "Manager",
                    "Programmer",
                    "Programmer",
                    "Programmer",
                    "Programmer",
                    "Manager",
                    "Programmer",
                    "Programmer",
                    "Programmer",
                    "Programmer",
                    "Programmer",
                    "Programmer",
                    "Programmer",
                    "Programmer",
                    "Programmer",
                    "Programmer",
                    "Programmer",
                    "Programmer",
                    "Programmer",
                    "Manager",
                    "Technician",
                    "Manager",
                    "Manager",
                    "Programmer",
                    "Programmer",
                    "Programmer",
                    "Programmer",
                    "Programmer",
                    "Programmer",
                    "Programmer",
                    "Programmer",
                    "Programmer",
                    "Programmer",
                    "Programmer",
                    "Programmer",
                    "Programmer",
                    "Programmer",
                    "Programmer",
                    "Technician",
                    "Manager",
                    "Programmer",
                    "Manager",
                    "Manager",
                    "Programmer",
                    "Programmer",
                    "Programmer",
                    "Technician",
                    "Programmer",
                    "Manager",
                    "Manager",
                    "Technician",
                    "Manager",
                    "Programmer",
                    "Manager",
                    "Manager",
                    "Manager",
                    "Technician",
                    "Programmer",
                    "Programmer",
                    "Programmer",
                    "Programmer",
                    "Programmer",
                    "Programmer",
                    "Programmer",
                    "Programmer",
                    "Programmer",
                    "Programmer",
                    "Programmer",
                    "Technician",
                    "Programmer",
                    "Technician",
                    "Programmer",
                    "Manager",
                    "Programmer",
                    "Programmer",
                    "Programmer",
                    "Programmer",
                    "Programmer",
                    "Programmer",
                    "Programmer",
                    "Programmer",
                    "Programmer",
                    "Programmer",
                    "Manager",
                    "Programmer",
                    "Programmer",
                    "Programmer",
                    "Programmer",
                    "Programmer",
                    "Programmer",
                    "Programmer",
                    "Technician",
                    "Programmer",
                    "Manager",
                    "Manager",
                    "Programmer",
                    "Programmer",
                    "Programmer",
                    "Programmer",
                    "Programmer",
                    "Technician",
                    "Manager",
                    "Programmer",
                    "Programmer",
                    "Programmer",
                    "Programmer",
                    "Manager",
                    "Programmer",
                    "Manager",
                    "Programmer",
                    "Programmer",
                    "Programmer",
                    "Programmer",
                    "Manager",
                    "Programmer",
                    "Programmer",
                    "Programmer",
                    "Programmer",
                    "Technician",
                    "Programmer",
                    "Programmer",
                    "Programmer",
                    "Programmer",
                    "Programmer",
                    "Programmer",
                    "Programmer",
                    "Programmer",
                    "Programmer",
                    "Programmer",
                    "Programmer",
                    "Programmer",
                    "Programmer",
                    "Programmer",
                    "Programmer",
                    "Programmer",
                    "Programmer",
                    "Manager",
                    "Programmer",
                    "Programmer",
                    "Programmer",
                    "Programmer",
                    "Programmer",
                    "Programmer",
                    "Programmer",
                    "Programmer",
                    "Programmer",
                    "Programmer",
                    "Programmer",
                    "Manager",
                    "Programmer",
                    "Technician",
                    "Technician",
                    "Manager",
                    "Programmer",
                    "Manager",
                    "Programmer",
                    "Programmer",
                    "Programmer",
                    "Programmer",
                    "Programmer",
                    "Programmer",
                    "Programmer",
                    "Programmer",
                    "Programmer",
                    "Programmer",
                    "Programmer",
                    "Programmer",
                    "Programmer",
                    "Programmer",
                    "Programmer",
                    "Programmer",
                    "Manager",
                    "Programmer",
                    "Manager",
                    "Programmer",
                    "Programmer",
                    "Programmer",
                    "Programmer",
                    "Manager",
                    "Technician",
                    "Programmer",
                    "Programmer",
                    "Programmer",
                    "Programmer",
                    "Programmer",
                    "Manager",
                    "Programmer",
                    "Programmer",
                    "Programmer",
                    "Programmer",
                    "Programmer",
                    "Programmer",
                    "Programmer",
                    "Programmer",
                    "Technician",
                    "Manager",
                    "Manager",
                    "Programmer",
                    "Programmer",
                    "Programmer",
                    "Programmer",
                    "Programmer",
                    "Programmer",
                    "Programmer",
                    "Programmer",
                    "Programmer",
                    "Programmer",
                    "Programmer",
                    "Programmer",
                    "Programmer",
                    "Programmer",
                    "Manager",
                    "Programmer",
                    "Programmer",
                    "Manager",
                    "Manager",
                    "Programmer",
                    "Programmer",
                    "Programmer",
                    "Manager",
                    "Manager",
                    "Manager",
                    "Programmer",
                    "Manager",
                    "Programmer",
                    "Programmer",
                    "Programmer",
                    "Manager",
                    "Programmer",
                    "Manager",
                    "Programmer",
                    "Programmer",
                    "Programmer",
                    "Manager",
                    "Programmer",
                    "Programmer",
                    "Programmer",
                    "Programmer",
                    "Programmer",
                    "Programmer"
                  ]
                }
              ],
              "layout": {
                "autosize": true,
                "legend": {
                  "orientation": "h",
                  "x": 0.5,
                  "xanchor": "center"
                },
                "margin": {
                  "b": 0,
                  "l": 0,
                  "r": 0,
                  "t": 30
                },
                "template": {
                  "data": {
                    "bar": [
                      {
                        "error_x": {
                          "color": "#2a3f5f"
                        },
                        "error_y": {
                          "color": "#2a3f5f"
                        },
                        "marker": {
                          "line": {
                            "color": "#E5ECF6",
                            "width": 0.5
                          },
                          "pattern": {
                            "fillmode": "overlay",
                            "size": 10,
                            "solidity": 0.2
                          }
                        },
                        "type": "bar"
                      }
                    ],
                    "barpolar": [
                      {
                        "marker": {
                          "line": {
                            "color": "#E5ECF6",
                            "width": 0.5
                          },
                          "pattern": {
                            "fillmode": "overlay",
                            "size": 10,
                            "solidity": 0.2
                          }
                        },
                        "type": "barpolar"
                      }
                    ],
                    "carpet": [
                      {
                        "aaxis": {
                          "endlinecolor": "#2a3f5f",
                          "gridcolor": "white",
                          "linecolor": "white",
                          "minorgridcolor": "white",
                          "startlinecolor": "#2a3f5f"
                        },
                        "baxis": {
                          "endlinecolor": "#2a3f5f",
                          "gridcolor": "white",
                          "linecolor": "white",
                          "minorgridcolor": "white",
                          "startlinecolor": "#2a3f5f"
                        },
                        "type": "carpet"
                      }
                    ],
                    "choropleth": [
                      {
                        "colorbar": {
                          "outlinewidth": 0,
                          "ticks": ""
                        },
                        "type": "choropleth"
                      }
                    ],
                    "contour": [
                      {
                        "colorbar": {
                          "outlinewidth": 0,
                          "ticks": ""
                        },
                        "colorscale": [
                          [
                            0,
                            "#0d0887"
                          ],
                          [
                            0.1111111111111111,
                            "#46039f"
                          ],
                          [
                            0.2222222222222222,
                            "#7201a8"
                          ],
                          [
                            0.3333333333333333,
                            "#9c179e"
                          ],
                          [
                            0.4444444444444444,
                            "#bd3786"
                          ],
                          [
                            0.5555555555555556,
                            "#d8576b"
                          ],
                          [
                            0.6666666666666666,
                            "#ed7953"
                          ],
                          [
                            0.7777777777777778,
                            "#fb9f3a"
                          ],
                          [
                            0.8888888888888888,
                            "#fdca26"
                          ],
                          [
                            1,
                            "#f0f921"
                          ]
                        ],
                        "type": "contour"
                      }
                    ],
                    "contourcarpet": [
                      {
                        "colorbar": {
                          "outlinewidth": 0,
                          "ticks": ""
                        },
                        "type": "contourcarpet"
                      }
                    ],
                    "heatmap": [
                      {
                        "colorbar": {
                          "outlinewidth": 0,
                          "ticks": ""
                        },
                        "colorscale": [
                          [
                            0,
                            "#0d0887"
                          ],
                          [
                            0.1111111111111111,
                            "#46039f"
                          ],
                          [
                            0.2222222222222222,
                            "#7201a8"
                          ],
                          [
                            0.3333333333333333,
                            "#9c179e"
                          ],
                          [
                            0.4444444444444444,
                            "#bd3786"
                          ],
                          [
                            0.5555555555555556,
                            "#d8576b"
                          ],
                          [
                            0.6666666666666666,
                            "#ed7953"
                          ],
                          [
                            0.7777777777777778,
                            "#fb9f3a"
                          ],
                          [
                            0.8888888888888888,
                            "#fdca26"
                          ],
                          [
                            1,
                            "#f0f921"
                          ]
                        ],
                        "type": "heatmap"
                      }
                    ],
                    "heatmapgl": [
                      {
                        "colorbar": {
                          "outlinewidth": 0,
                          "ticks": ""
                        },
                        "colorscale": [
                          [
                            0,
                            "#0d0887"
                          ],
                          [
                            0.1111111111111111,
                            "#46039f"
                          ],
                          [
                            0.2222222222222222,
                            "#7201a8"
                          ],
                          [
                            0.3333333333333333,
                            "#9c179e"
                          ],
                          [
                            0.4444444444444444,
                            "#bd3786"
                          ],
                          [
                            0.5555555555555556,
                            "#d8576b"
                          ],
                          [
                            0.6666666666666666,
                            "#ed7953"
                          ],
                          [
                            0.7777777777777778,
                            "#fb9f3a"
                          ],
                          [
                            0.8888888888888888,
                            "#fdca26"
                          ],
                          [
                            1,
                            "#f0f921"
                          ]
                        ],
                        "type": "heatmapgl"
                      }
                    ],
                    "histogram": [
                      {
                        "marker": {
                          "pattern": {
                            "fillmode": "overlay",
                            "size": 10,
                            "solidity": 0.2
                          }
                        },
                        "type": "histogram"
                      }
                    ],
                    "histogram2d": [
                      {
                        "colorbar": {
                          "outlinewidth": 0,
                          "ticks": ""
                        },
                        "colorscale": [
                          [
                            0,
                            "#0d0887"
                          ],
                          [
                            0.1111111111111111,
                            "#46039f"
                          ],
                          [
                            0.2222222222222222,
                            "#7201a8"
                          ],
                          [
                            0.3333333333333333,
                            "#9c179e"
                          ],
                          [
                            0.4444444444444444,
                            "#bd3786"
                          ],
                          [
                            0.5555555555555556,
                            "#d8576b"
                          ],
                          [
                            0.6666666666666666,
                            "#ed7953"
                          ],
                          [
                            0.7777777777777778,
                            "#fb9f3a"
                          ],
                          [
                            0.8888888888888888,
                            "#fdca26"
                          ],
                          [
                            1,
                            "#f0f921"
                          ]
                        ],
                        "type": "histogram2d"
                      }
                    ],
                    "histogram2dcontour": [
                      {
                        "colorbar": {
                          "outlinewidth": 0,
                          "ticks": ""
                        },
                        "colorscale": [
                          [
                            0,
                            "#0d0887"
                          ],
                          [
                            0.1111111111111111,
                            "#46039f"
                          ],
                          [
                            0.2222222222222222,
                            "#7201a8"
                          ],
                          [
                            0.3333333333333333,
                            "#9c179e"
                          ],
                          [
                            0.4444444444444444,
                            "#bd3786"
                          ],
                          [
                            0.5555555555555556,
                            "#d8576b"
                          ],
                          [
                            0.6666666666666666,
                            "#ed7953"
                          ],
                          [
                            0.7777777777777778,
                            "#fb9f3a"
                          ],
                          [
                            0.8888888888888888,
                            "#fdca26"
                          ],
                          [
                            1,
                            "#f0f921"
                          ]
                        ],
                        "type": "histogram2dcontour"
                      }
                    ],
                    "mesh3d": [
                      {
                        "colorbar": {
                          "outlinewidth": 0,
                          "ticks": ""
                        },
                        "type": "mesh3d"
                      }
                    ],
                    "parcoords": [
                      {
                        "line": {
                          "colorbar": {
                            "outlinewidth": 0,
                            "ticks": ""
                          }
                        },
                        "type": "parcoords"
                      }
                    ],
                    "pie": [
                      {
                        "automargin": true,
                        "type": "pie"
                      }
                    ],
                    "scatter": [
                      {
                        "marker": {
                          "colorbar": {
                            "outlinewidth": 0,
                            "ticks": ""
                          }
                        },
                        "type": "scatter"
                      }
                    ],
                    "scatter3d": [
                      {
                        "line": {
                          "colorbar": {
                            "outlinewidth": 0,
                            "ticks": ""
                          }
                        },
                        "marker": {
                          "colorbar": {
                            "outlinewidth": 0,
                            "ticks": ""
                          }
                        },
                        "type": "scatter3d"
                      }
                    ],
                    "scattercarpet": [
                      {
                        "marker": {
                          "colorbar": {
                            "outlinewidth": 0,
                            "ticks": ""
                          }
                        },
                        "type": "scattercarpet"
                      }
                    ],
                    "scattergeo": [
                      {
                        "marker": {
                          "colorbar": {
                            "outlinewidth": 0,
                            "ticks": ""
                          }
                        },
                        "type": "scattergeo"
                      }
                    ],
                    "scattergl": [
                      {
                        "marker": {
                          "colorbar": {
                            "outlinewidth": 0,
                            "ticks": ""
                          }
                        },
                        "type": "scattergl"
                      }
                    ],
                    "scattermapbox": [
                      {
                        "marker": {
                          "colorbar": {
                            "outlinewidth": 0,
                            "ticks": ""
                          }
                        },
                        "type": "scattermapbox"
                      }
                    ],
                    "scatterpolar": [
                      {
                        "marker": {
                          "colorbar": {
                            "outlinewidth": 0,
                            "ticks": ""
                          }
                        },
                        "type": "scatterpolar"
                      }
                    ],
                    "scatterpolargl": [
                      {
                        "marker": {
                          "colorbar": {
                            "outlinewidth": 0,
                            "ticks": ""
                          }
                        },
                        "type": "scatterpolargl"
                      }
                    ],
                    "scatterternary": [
                      {
                        "marker": {
                          "colorbar": {
                            "outlinewidth": 0,
                            "ticks": ""
                          }
                        },
                        "type": "scatterternary"
                      }
                    ],
                    "surface": [
                      {
                        "colorbar": {
                          "outlinewidth": 0,
                          "ticks": ""
                        },
                        "colorscale": [
                          [
                            0,
                            "#0d0887"
                          ],
                          [
                            0.1111111111111111,
                            "#46039f"
                          ],
                          [
                            0.2222222222222222,
                            "#7201a8"
                          ],
                          [
                            0.3333333333333333,
                            "#9c179e"
                          ],
                          [
                            0.4444444444444444,
                            "#bd3786"
                          ],
                          [
                            0.5555555555555556,
                            "#d8576b"
                          ],
                          [
                            0.6666666666666666,
                            "#ed7953"
                          ],
                          [
                            0.7777777777777778,
                            "#fb9f3a"
                          ],
                          [
                            0.8888888888888888,
                            "#fdca26"
                          ],
                          [
                            1,
                            "#f0f921"
                          ]
                        ],
                        "type": "surface"
                      }
                    ],
                    "table": [
                      {
                        "cells": {
                          "fill": {
                            "color": "#EBF0F8"
                          },
                          "line": {
                            "color": "white"
                          }
                        },
                        "header": {
                          "fill": {
                            "color": "#C8D4E3"
                          },
                          "line": {
                            "color": "white"
                          }
                        },
                        "type": "table"
                      }
                    ]
                  },
                  "layout": {
                    "annotationdefaults": {
                      "arrowcolor": "#2a3f5f",
                      "arrowhead": 0,
                      "arrowwidth": 1
                    },
                    "autotypenumbers": "strict",
                    "coloraxis": {
                      "colorbar": {
                        "outlinewidth": 0,
                        "ticks": ""
                      }
                    },
                    "colorscale": {
                      "diverging": [
                        [
                          0,
                          "#8e0152"
                        ],
                        [
                          0.1,
                          "#c51b7d"
                        ],
                        [
                          0.2,
                          "#de77ae"
                        ],
                        [
                          0.3,
                          "#f1b6da"
                        ],
                        [
                          0.4,
                          "#fde0ef"
                        ],
                        [
                          0.5,
                          "#f7f7f7"
                        ],
                        [
                          0.6,
                          "#e6f5d0"
                        ],
                        [
                          0.7,
                          "#b8e186"
                        ],
                        [
                          0.8,
                          "#7fbc41"
                        ],
                        [
                          0.9,
                          "#4d9221"
                        ],
                        [
                          1,
                          "#276419"
                        ]
                      ],
                      "sequential": [
                        [
                          0,
                          "#0d0887"
                        ],
                        [
                          0.1111111111111111,
                          "#46039f"
                        ],
                        [
                          0.2222222222222222,
                          "#7201a8"
                        ],
                        [
                          0.3333333333333333,
                          "#9c179e"
                        ],
                        [
                          0.4444444444444444,
                          "#bd3786"
                        ],
                        [
                          0.5555555555555556,
                          "#d8576b"
                        ],
                        [
                          0.6666666666666666,
                          "#ed7953"
                        ],
                        [
                          0.7777777777777778,
                          "#fb9f3a"
                        ],
                        [
                          0.8888888888888888,
                          "#fdca26"
                        ],
                        [
                          1,
                          "#f0f921"
                        ]
                      ],
                      "sequentialminus": [
                        [
                          0,
                          "#0d0887"
                        ],
                        [
                          0.1111111111111111,
                          "#46039f"
                        ],
                        [
                          0.2222222222222222,
                          "#7201a8"
                        ],
                        [
                          0.3333333333333333,
                          "#9c179e"
                        ],
                        [
                          0.4444444444444444,
                          "#bd3786"
                        ],
                        [
                          0.5555555555555556,
                          "#d8576b"
                        ],
                        [
                          0.6666666666666666,
                          "#ed7953"
                        ],
                        [
                          0.7777777777777778,
                          "#fb9f3a"
                        ],
                        [
                          0.8888888888888888,
                          "#fdca26"
                        ],
                        [
                          1,
                          "#f0f921"
                        ]
                      ]
                    },
                    "colorway": [
                      "#636efa",
                      "#EF553B",
                      "#00cc96",
                      "#ab63fa",
                      "#FFA15A",
                      "#19d3f3",
                      "#FF6692",
                      "#B6E880",
                      "#FF97FF",
                      "#FECB52"
                    ],
                    "font": {
                      "color": "#2a3f5f"
                    },
                    "geo": {
                      "bgcolor": "white",
                      "lakecolor": "white",
                      "landcolor": "#E5ECF6",
                      "showlakes": true,
                      "showland": true,
                      "subunitcolor": "white"
                    },
                    "hoverlabel": {
                      "align": "left"
                    },
                    "hovermode": "closest",
                    "mapbox": {
                      "style": "light"
                    },
                    "paper_bgcolor": "white",
                    "plot_bgcolor": "#E5ECF6",
                    "polar": {
                      "angularaxis": {
                        "gridcolor": "white",
                        "linecolor": "white",
                        "ticks": ""
                      },
                      "bgcolor": "#E5ECF6",
                      "radialaxis": {
                        "gridcolor": "white",
                        "linecolor": "white",
                        "ticks": ""
                      }
                    },
                    "scene": {
                      "xaxis": {
                        "backgroundcolor": "#E5ECF6",
                        "gridcolor": "white",
                        "gridwidth": 2,
                        "linecolor": "white",
                        "showbackground": true,
                        "ticks": "",
                        "zerolinecolor": "white"
                      },
                      "yaxis": {
                        "backgroundcolor": "#E5ECF6",
                        "gridcolor": "white",
                        "gridwidth": 2,
                        "linecolor": "white",
                        "showbackground": true,
                        "ticks": "",
                        "zerolinecolor": "white"
                      },
                      "zaxis": {
                        "backgroundcolor": "#E5ECF6",
                        "gridcolor": "white",
                        "gridwidth": 2,
                        "linecolor": "white",
                        "showbackground": true,
                        "ticks": "",
                        "zerolinecolor": "white"
                      }
                    },
                    "shapedefaults": {
                      "line": {
                        "color": "#2a3f5f"
                      }
                    },
                    "ternary": {
                      "aaxis": {
                        "gridcolor": "white",
                        "linecolor": "white",
                        "ticks": ""
                      },
                      "baxis": {
                        "gridcolor": "white",
                        "linecolor": "white",
                        "ticks": ""
                      },
                      "bgcolor": "#E5ECF6",
                      "caxis": {
                        "gridcolor": "white",
                        "linecolor": "white",
                        "ticks": ""
                      }
                    },
                    "title": {
                      "x": 0.05
                    },
                    "xaxis": {
                      "automargin": true,
                      "gridcolor": "white",
                      "linecolor": "white",
                      "ticks": "",
                      "title": {
                        "standoff": 15
                      },
                      "zerolinecolor": "white",
                      "zerolinewidth": 2
                    },
                    "yaxis": {
                      "automargin": true,
                      "gridcolor": "white",
                      "linecolor": "white",
                      "ticks": "",
                      "title": {
                        "standoff": 15
                      },
                      "zerolinecolor": "white",
                      "zerolinewidth": 2
                    }
                  }
                },
                "title": {
                  "text": "Количество людей по профессиям"
                },
                "xaxis": {
                  "autorange": true,
                  "range": [
                    -0.5,
                    2.5
                  ],
                  "title": {
                    "text": "Количество"
                  },
                  "type": "category"
                },
                "yaxis": {
                  "autorange": true,
                  "range": [
                    0,
                    380
                  ],
                  "title": {
                    "text": "профессии"
                  }
                }
              }
            },
            "image/png": "[encoded data removed]",
            "text/html": [
              "<div>                            <div id=\"38475409-5edb-4f94-962b-0b1db958a852\" class=\"plotly-graph-div\" style=\"height:525px; width:100%;\"></div>            <script type=\"text/javascript\">                require([\"plotly\"], function(Plotly) {                    window.PLOTLYENV=window.PLOTLYENV || {};                                    if (document.getElementById(\"38475409-5edb-4f94-962b-0b1db958a852\")) {                    Plotly.newPlot(                        \"38475409-5edb-4f94-962b-0b1db958a852\",                        [{\"x\":[\"Manager\",\"Programmer\",\"Programmer\",\"Programmer\",\"Programmer\",\"Programmer\",\"Programmer\",\"Programmer\",\"Programmer\",\"Programmer\",\"Programmer\",\"Programmer\",\"Programmer\",\"Programmer\",\"Programmer\",\"Programmer\",\"Programmer\",\"Manager\",\"Programmer\",\"Programmer\",\"Programmer\",\"Programmer\",\"Programmer\",\"Programmer\",\"Programmer\",\"Programmer\",\"Manager\",\"Programmer\",\"Manager\",\"Programmer\",null,\"Manager\",\"Programmer\",\"Manager\",\"Manager\",\"Programmer\",\"Programmer\",\"Programmer\",\"Programmer\",\"Programmer\",\"Programmer\",\"Programmer\",\"Programmer\",\"Programmer\",\"Technician\",\"Programmer\",\"Programmer\",\"Technician\",\"Programmer\",\"Manager\",\"Programmer\",\"Programmer\",\"Manager\",\"Programmer\",\"Programmer\",\"Programmer\",\"Programmer\",\"Programmer\",\"Programmer\",\"Programmer\",\"Programmer\",\"Manager\",\"Manager\",\"Manager\",\"Programmer\",null,\"Manager\",\"Manager\",\"Manager\",\"Programmer\",\"Manager\",\"Programmer\",\"Programmer\",\"Programmer\",\"Programmer\",\"Programmer\",\"Programmer\",\"Programmer\",\"Programmer\",\"Programmer\",\"Programmer\",\"Programmer\",\"Programmer\",\"Programmer\",\"Programmer\",\"Programmer\",\"Programmer\",\"Manager\",\"Manager\",null,\"Programmer\",\"Programmer\",\"Programmer\",\"Programmer\",\"Programmer\",\"Technician\",\"Programmer\",\"Technician\",\"Programmer\",\"Manager\",\"Manager\",\"Programmer\",\"Manager\",\"Programmer\",\"Programmer\",\"Manager\",\"Programmer\",\"Programmer\",\"Programmer\",\"Programmer\",\"Technician\",\"Technician\",\"Manager\",\"Programmer\",\"Programmer\",\"Programmer\",\"Programmer\",\"Programmer\",\"Programmer\",\"Manager\",\"Programmer\",\"Programmer\",\"Programmer\",\"Programmer\",\"Programmer\",\"Technician\",\"Technician\",\"Programmer\",\"Manager\",\"Manager\",\"Programmer\",\"Programmer\",\"Programmer\",\"Manager\",\"Programmer\",\"Programmer\",\"Manager\",\"Programmer\",\"Programmer\",\"Programmer\",\"Programmer\",\"Programmer\",\"Programmer\",\"Programmer\",\"Programmer\",\"Programmer\",\"Programmer\",\"Programmer\",\"Programmer\",\"Programmer\",\"Manager\",\"Technician\",\"Programmer\",\"Programmer\",\"Programmer\",\"Programmer\",\"Programmer\",\"Programmer\",\"Programmer\",\"Manager\",\"Programmer\",\"Manager\",\"Programmer\",\"Programmer\",\"Programmer\",\"Programmer\",\"Programmer\",\"Manager\",\"Programmer\",\"Programmer\",\"Programmer\",\"Programmer\",\"Manager\",\"Technician\",\"Programmer\",\"Programmer\",\"Programmer\",\"Programmer\",\"Programmer\",\"Programmer\",\"Programmer\",\"Programmer\",\"Programmer\",\"Programmer\",\"Technician\",\"Programmer\",\"Manager\",\"Programmer\",\"Programmer\",\"Programmer\",\"Programmer\",\"Programmer\",\"Programmer\",\"Programmer\",\"Programmer\",\"Programmer\",\"Manager\",\"Manager\",\"Manager\",\"Manager\",\"Programmer\",\"Programmer\",\"Programmer\",\"Programmer\",\"Manager\",\"Technician\",\"Programmer\",\"Programmer\",\"Programmer\",\"Programmer\",\"Programmer\",\"Programmer\",\"Technician\",\"Programmer\",\"Programmer\",\"Programmer\",\"Programmer\",\"Programmer\",\"Programmer\",\"Programmer\",\"Programmer\",\"Programmer\",\"Programmer\",\"Programmer\",\"Programmer\",\"Programmer\",\"Programmer\",\"Programmer\",\"Programmer\",\"Programmer\",\"Manager\",\"Manager\",\"Programmer\",\"Programmer\",\"Manager\",\"Programmer\",\"Programmer\",\"Programmer\",\"Programmer\",\"Manager\",\"Programmer\",\"Programmer\",\"Programmer\",\"Programmer\",\"Programmer\",\"Programmer\",\"Programmer\",\"Programmer\",\"Programmer\",\"Programmer\",\"Programmer\",\"Programmer\",\"Programmer\",\"Manager\",\"Technician\",\"Manager\",\"Manager\",\"Programmer\",\"Programmer\",\"Programmer\",\"Programmer\",\"Programmer\",\"Programmer\",\"Programmer\",\"Programmer\",\"Programmer\",\"Programmer\",\"Programmer\",\"Programmer\",\"Programmer\",\"Programmer\",\"Programmer\",\"Technician\",\"Manager\",\"Programmer\",\"Manager\",\"Manager\",\"Programmer\",\"Programmer\",\"Programmer\",\"Technician\",\"Programmer\",\"Manager\",\"Manager\",\"Technician\",\"Manager\",\"Programmer\",\"Manager\",\"Manager\",\"Manager\",\"Technician\",\"Programmer\",\"Programmer\",\"Programmer\",\"Programmer\",\"Programmer\",\"Programmer\",\"Programmer\",\"Programmer\",\"Programmer\",\"Programmer\",\"Programmer\",\"Technician\",\"Programmer\",\"Technician\",\"Programmer\",\"Manager\",\"Programmer\",\"Programmer\",\"Programmer\",\"Programmer\",\"Programmer\",\"Programmer\",\"Programmer\",\"Programmer\",\"Programmer\",\"Programmer\",\"Manager\",\"Programmer\",\"Programmer\",\"Programmer\",\"Programmer\",\"Programmer\",\"Programmer\",\"Programmer\",\"Technician\",\"Programmer\",\"Manager\",\"Manager\",\"Programmer\",\"Programmer\",\"Programmer\",\"Programmer\",\"Programmer\",\"Technician\",\"Manager\",\"Programmer\",\"Programmer\",\"Programmer\",\"Programmer\",\"Manager\",\"Programmer\",\"Manager\",\"Programmer\",\"Programmer\",\"Programmer\",\"Programmer\",\"Manager\",\"Programmer\",\"Programmer\",\"Programmer\",\"Programmer\",\"Technician\",\"Programmer\",\"Programmer\",\"Programmer\",\"Programmer\",\"Programmer\",\"Programmer\",\"Programmer\",\"Programmer\",\"Programmer\",\"Programmer\",\"Programmer\",\"Programmer\",\"Programmer\",\"Programmer\",\"Programmer\",\"Programmer\",\"Programmer\",\"Manager\",\"Programmer\",\"Programmer\",\"Programmer\",\"Programmer\",\"Programmer\",\"Programmer\",\"Programmer\",\"Programmer\",\"Programmer\",\"Programmer\",\"Programmer\",\"Manager\",\"Programmer\",\"Technician\",\"Technician\",\"Manager\",\"Programmer\",\"Manager\",\"Programmer\",\"Programmer\",\"Programmer\",\"Programmer\",\"Programmer\",\"Programmer\",\"Programmer\",\"Programmer\",\"Programmer\",\"Programmer\",\"Programmer\",\"Programmer\",\"Programmer\",\"Programmer\",\"Programmer\",\"Programmer\",\"Manager\",\"Programmer\",\"Manager\",\"Programmer\",\"Programmer\",\"Programmer\",\"Programmer\",\"Manager\",\"Technician\",\"Programmer\",\"Programmer\",\"Programmer\",\"Programmer\",\"Programmer\",\"Manager\",\"Programmer\",\"Programmer\",\"Programmer\",\"Programmer\",\"Programmer\",\"Programmer\",\"Programmer\",\"Programmer\",\"Technician\",\"Manager\",\"Manager\",\"Programmer\",\"Programmer\",\"Programmer\",\"Programmer\",\"Programmer\",\"Programmer\",\"Programmer\",\"Programmer\",\"Programmer\",\"Programmer\",\"Programmer\",\"Programmer\",\"Programmer\",\"Programmer\",\"Manager\",\"Programmer\",\"Programmer\",\"Manager\",\"Manager\",\"Programmer\",\"Programmer\",\"Programmer\",\"Manager\",\"Manager\",\"Manager\",\"Programmer\",\"Manager\",\"Programmer\",\"Programmer\",\"Programmer\",\"Manager\",\"Programmer\",\"Manager\",\"Programmer\",\"Programmer\",\"Programmer\",\"Manager\",\"Programmer\",\"Programmer\",\"Programmer\",\"Programmer\",\"Programmer\",\"Programmer\"],\"type\":\"histogram\"}],                        {\"template\":{\"data\":{\"bar\":[{\"error_x\":{\"color\":\"#2a3f5f\"},\"error_y\":{\"color\":\"#2a3f5f\"},\"marker\":{\"line\":{\"color\":\"#E5ECF6\",\"width\":0.5},\"pattern\":{\"fillmode\":\"overlay\",\"size\":10,\"solidity\":0.2}},\"type\":\"bar\"}],\"barpolar\":[{\"marker\":{\"line\":{\"color\":\"#E5ECF6\",\"width\":0.5},\"pattern\":{\"fillmode\":\"overlay\",\"size\":10,\"solidity\":0.2}},\"type\":\"barpolar\"}],\"carpet\":[{\"aaxis\":{\"endlinecolor\":\"#2a3f5f\",\"gridcolor\":\"white\",\"linecolor\":\"white\",\"minorgridcolor\":\"white\",\"startlinecolor\":\"#2a3f5f\"},\"baxis\":{\"endlinecolor\":\"#2a3f5f\",\"gridcolor\":\"white\",\"linecolor\":\"white\",\"minorgridcolor\":\"white\",\"startlinecolor\":\"#2a3f5f\"},\"type\":\"carpet\"}],\"choropleth\":[{\"colorbar\":{\"outlinewidth\":0,\"ticks\":\"\"},\"type\":\"choropleth\"}],\"contour\":[{\"colorbar\":{\"outlinewidth\":0,\"ticks\":\"\"},\"colorscale\":[[0.0,\"#0d0887\"],[0.1111111111111111,\"#46039f\"],[0.2222222222222222,\"#7201a8\"],[0.3333333333333333,\"#9c179e\"],[0.4444444444444444,\"#bd3786\"],[0.5555555555555556,\"#d8576b\"],[0.6666666666666666,\"#ed7953\"],[0.7777777777777778,\"#fb9f3a\"],[0.8888888888888888,\"#fdca26\"],[1.0,\"#f0f921\"]],\"type\":\"contour\"}],\"contourcarpet\":[{\"colorbar\":{\"outlinewidth\":0,\"ticks\":\"\"},\"type\":\"contourcarpet\"}],\"heatmap\":[{\"colorbar\":{\"outlinewidth\":0,\"ticks\":\"\"},\"colorscale\":[[0.0,\"#0d0887\"],[0.1111111111111111,\"#46039f\"],[0.2222222222222222,\"#7201a8\"],[0.3333333333333333,\"#9c179e\"],[0.4444444444444444,\"#bd3786\"],[0.5555555555555556,\"#d8576b\"],[0.6666666666666666,\"#ed7953\"],[0.7777777777777778,\"#fb9f3a\"],[0.8888888888888888,\"#fdca26\"],[1.0,\"#f0f921\"]],\"type\":\"heatmap\"}],\"heatmapgl\":[{\"colorbar\":{\"outlinewidth\":0,\"ticks\":\"\"},\"colorscale\":[[0.0,\"#0d0887\"],[0.1111111111111111,\"#46039f\"],[0.2222222222222222,\"#7201a8\"],[0.3333333333333333,\"#9c179e\"],[0.4444444444444444,\"#bd3786\"],[0.5555555555555556,\"#d8576b\"],[0.6666666666666666,\"#ed7953\"],[0.7777777777777778,\"#fb9f3a\"],[0.8888888888888888,\"#fdca26\"],[1.0,\"#f0f921\"]],\"type\":\"heatmapgl\"}],\"histogram\":[{\"marker\":{\"pattern\":{\"fillmode\":\"overlay\",\"size\":10,\"solidity\":0.2}},\"type\":\"histogram\"}],\"histogram2d\":[{\"colorbar\":{\"outlinewidth\":0,\"ticks\":\"\"},\"colorscale\":[[0.0,\"#0d0887\"],[0.1111111111111111,\"#46039f\"],[0.2222222222222222,\"#7201a8\"],[0.3333333333333333,\"#9c179e\"],[0.4444444444444444,\"#bd3786\"],[0.5555555555555556,\"#d8576b\"],[0.6666666666666666,\"#ed7953\"],[0.7777777777777778,\"#fb9f3a\"],[0.8888888888888888,\"#fdca26\"],[1.0,\"#f0f921\"]],\"type\":\"histogram2d\"}],\"histogram2dcontour\":[{\"colorbar\":{\"outlinewidth\":0,\"ticks\":\"\"},\"colorscale\":[[0.0,\"#0d0887\"],[0.1111111111111111,\"#46039f\"],[0.2222222222222222,\"#7201a8\"],[0.3333333333333333,\"#9c179e\"],[0.4444444444444444,\"#bd3786\"],[0.5555555555555556,\"#d8576b\"],[0.6666666666666666,\"#ed7953\"],[0.7777777777777778,\"#fb9f3a\"],[0.8888888888888888,\"#fdca26\"],[1.0,\"#f0f921\"]],\"type\":\"histogram2dcontour\"}],\"mesh3d\":[{\"colorbar\":{\"outlinewidth\":0,\"ticks\":\"\"},\"type\":\"mesh3d\"}],\"parcoords\":[{\"line\":{\"colorbar\":{\"outlinewidth\":0,\"ticks\":\"\"}},\"type\":\"parcoords\"}],\"pie\":[{\"automargin\":true,\"type\":\"pie\"}],\"scatter\":[{\"marker\":{\"colorbar\":{\"outlinewidth\":0,\"ticks\":\"\"}},\"type\":\"scatter\"}],\"scatter3d\":[{\"line\":{\"colorbar\":{\"outlinewidth\":0,\"ticks\":\"\"}},\"marker\":{\"colorbar\":{\"outlinewidth\":0,\"ticks\":\"\"}},\"type\":\"scatter3d\"}],\"scattercarpet\":[{\"marker\":{\"colorbar\":{\"outlinewidth\":0,\"ticks\":\"\"}},\"type\":\"scattercarpet\"}],\"scattergeo\":[{\"marker\":{\"colorbar\":{\"outlinewidth\":0,\"ticks\":\"\"}},\"type\":\"scattergeo\"}],\"scattergl\":[{\"marker\":{\"colorbar\":{\"outlinewidth\":0,\"ticks\":\"\"}},\"type\":\"scattergl\"}],\"scattermapbox\":[{\"marker\":{\"colorbar\":{\"outlinewidth\":0,\"ticks\":\"\"}},\"type\":\"scattermapbox\"}],\"scatterpolar\":[{\"marker\":{\"colorbar\":{\"outlinewidth\":0,\"ticks\":\"\"}},\"type\":\"scatterpolar\"}],\"scatterpolargl\":[{\"marker\":{\"colorbar\":{\"outlinewidth\":0,\"ticks\":\"\"}},\"type\":\"scatterpolargl\"}],\"scatterternary\":[{\"marker\":{\"colorbar\":{\"outlinewidth\":0,\"ticks\":\"\"}},\"type\":\"scatterternary\"}],\"surface\":[{\"colorbar\":{\"outlinewidth\":0,\"ticks\":\"\"},\"colorscale\":[[0.0,\"#0d0887\"],[0.1111111111111111,\"#46039f\"],[0.2222222222222222,\"#7201a8\"],[0.3333333333333333,\"#9c179e\"],[0.4444444444444444,\"#bd3786\"],[0.5555555555555556,\"#d8576b\"],[0.6666666666666666,\"#ed7953\"],[0.7777777777777778,\"#fb9f3a\"],[0.8888888888888888,\"#fdca26\"],[1.0,\"#f0f921\"]],\"type\":\"surface\"}],\"table\":[{\"cells\":{\"fill\":{\"color\":\"#EBF0F8\"},\"line\":{\"color\":\"white\"}},\"header\":{\"fill\":{\"color\":\"#C8D4E3\"},\"line\":{\"color\":\"white\"}},\"type\":\"table\"}]},\"layout\":{\"annotationdefaults\":{\"arrowcolor\":\"#2a3f5f\",\"arrowhead\":0,\"arrowwidth\":1},\"autotypenumbers\":\"strict\",\"coloraxis\":{\"colorbar\":{\"outlinewidth\":0,\"ticks\":\"\"}},\"colorscale\":{\"diverging\":[[0,\"#8e0152\"],[0.1,\"#c51b7d\"],[0.2,\"#de77ae\"],[0.3,\"#f1b6da\"],[0.4,\"#fde0ef\"],[0.5,\"#f7f7f7\"],[0.6,\"#e6f5d0\"],[0.7,\"#b8e186\"],[0.8,\"#7fbc41\"],[0.9,\"#4d9221\"],[1,\"#276419\"]],\"sequential\":[[0.0,\"#0d0887\"],[0.1111111111111111,\"#46039f\"],[0.2222222222222222,\"#7201a8\"],[0.3333333333333333,\"#9c179e\"],[0.4444444444444444,\"#bd3786\"],[0.5555555555555556,\"#d8576b\"],[0.6666666666666666,\"#ed7953\"],[0.7777777777777778,\"#fb9f3a\"],[0.8888888888888888,\"#fdca26\"],[1.0,\"#f0f921\"]],\"sequentialminus\":[[0.0,\"#0d0887\"],[0.1111111111111111,\"#46039f\"],[0.2222222222222222,\"#7201a8\"],[0.3333333333333333,\"#9c179e\"],[0.4444444444444444,\"#bd3786\"],[0.5555555555555556,\"#d8576b\"],[0.6666666666666666,\"#ed7953\"],[0.7777777777777778,\"#fb9f3a\"],[0.8888888888888888,\"#fdca26\"],[1.0,\"#f0f921\"]]},\"colorway\":[\"#636efa\",\"#EF553B\",\"#00cc96\",\"#ab63fa\",\"#FFA15A\",\"#19d3f3\",\"#FF6692\",\"#B6E880\",\"#FF97FF\",\"#FECB52\"],\"font\":{\"color\":\"#2a3f5f\"},\"geo\":{\"bgcolor\":\"white\",\"lakecolor\":\"white\",\"landcolor\":\"#E5ECF6\",\"showlakes\":true,\"showland\":true,\"subunitcolor\":\"white\"},\"hoverlabel\":{\"align\":\"left\"},\"hovermode\":\"closest\",\"mapbox\":{\"style\":\"light\"},\"paper_bgcolor\":\"white\",\"plot_bgcolor\":\"#E5ECF6\",\"polar\":{\"angularaxis\":{\"gridcolor\":\"white\",\"linecolor\":\"white\",\"ticks\":\"\"},\"bgcolor\":\"#E5ECF6\",\"radialaxis\":{\"gridcolor\":\"white\",\"linecolor\":\"white\",\"ticks\":\"\"}},\"scene\":{\"xaxis\":{\"backgroundcolor\":\"#E5ECF6\",\"gridcolor\":\"white\",\"gridwidth\":2,\"linecolor\":\"white\",\"showbackground\":true,\"ticks\":\"\",\"zerolinecolor\":\"white\"},\"yaxis\":{\"backgroundcolor\":\"#E5ECF6\",\"gridcolor\":\"white\",\"gridwidth\":2,\"linecolor\":\"white\",\"showbackground\":true,\"ticks\":\"\",\"zerolinecolor\":\"white\"},\"zaxis\":{\"backgroundcolor\":\"#E5ECF6\",\"gridcolor\":\"white\",\"gridwidth\":2,\"linecolor\":\"white\",\"showbackground\":true,\"ticks\":\"\",\"zerolinecolor\":\"white\"}},\"shapedefaults\":{\"line\":{\"color\":\"#2a3f5f\"}},\"ternary\":{\"aaxis\":{\"gridcolor\":\"white\",\"linecolor\":\"white\",\"ticks\":\"\"},\"baxis\":{\"gridcolor\":\"white\",\"linecolor\":\"white\",\"ticks\":\"\"},\"bgcolor\":\"#E5ECF6\",\"caxis\":{\"gridcolor\":\"white\",\"linecolor\":\"white\",\"ticks\":\"\"}},\"title\":{\"x\":0.05},\"xaxis\":{\"automargin\":true,\"gridcolor\":\"white\",\"linecolor\":\"white\",\"ticks\":\"\",\"title\":{\"standoff\":15},\"zerolinecolor\":\"white\",\"zerolinewidth\":2},\"yaxis\":{\"automargin\":true,\"gridcolor\":\"white\",\"linecolor\":\"white\",\"ticks\":\"\",\"title\":{\"standoff\":15},\"zerolinecolor\":\"white\",\"zerolinewidth\":2}}},\"legend\":{\"orientation\":\"h\",\"x\":0.5,\"xanchor\":\"center\"},\"margin\":{\"l\":0,\"r\":0,\"t\":30,\"b\":0},\"title\":{\"text\":\"\\u041a\\u043e\\u043b\\u0438\\u0447\\u0435\\u0441\\u0442\\u0432\\u043e \\u043b\\u044e\\u0434\\u0435\\u0439 \\u043f\\u043e \\u043f\\u0440\\u043e\\u0444\\u0435\\u0441\\u0441\\u0438\\u044f\\u043c\"},\"xaxis\":{\"title\":{\"text\":\"\\u041a\\u043e\\u043b\\u0438\\u0447\\u0435\\u0441\\u0442\\u0432\\u043e\"}},\"yaxis\":{\"title\":{\"text\":\"\\u043f\\u0440\\u043e\\u0444\\u0435\\u0441\\u0441\\u0438\\u0438\"}}},                        {\"responsive\": true}                    ).then(function(){\n",
              "                            \n",
              "var gd = document.getElementById('38475409-5edb-4f94-962b-0b1db958a852');\n",
              "var x = new MutationObserver(function (mutations, observer) {{\n",
              "        var display = window.getComputedStyle(gd).display;\n",
              "        if (!display || display === 'none') {{\n",
              "            console.log([gd, 'removed!']);\n",
              "            Plotly.purge(gd);\n",
              "            observer.disconnect();\n",
              "        }}\n",
              "}});\n",
              "\n",
              "// Listen for the removal of the full notebook cells\n",
              "var notebookContainer = gd.closest('#notebook-container');\n",
              "if (notebookContainer) {{\n",
              "    x.observe(notebookContainer, {childList: true});\n",
              "}}\n",
              "\n",
              "// Listen for the clearing of the current output cell\n",
              "var outputEl = gd.closest('.output');\n",
              "if (outputEl) {{\n",
              "    x.observe(outputEl, {childList: true});\n",
              "}}\n",
              "\n",
              "                        })                };                });            </script>        </div>"
            ]
          },
          "metadata": {},
          "output_type": "display_data"
        }
      ],
      "source": [
        "import plotly\n",
        "import plotly.graph_objs as go\n",
        "import plotly.express as px\n",
        "from plotly.subplots import make_subplots\n",
        "\n",
        "import numpy as np\n",
        "import pandas as pd\n",
        "fig = go.Figure(data=[go.Histogram(x=df['jobcat'])])\n",
        "fig.update_layout(legend_orientation=\"h\",\n",
        "                  legend=dict(x=.5, xanchor=\"center\"),\n",
        "                  title=\"Количество людей по профессиям\",\n",
        "                  xaxis_title=\"Количество\",\n",
        "                  yaxis_title=\"профессии\",\n",
        "                  margin=dict(l=0, r=0, t=30, b=0))\n",
        "fig.show()"
      ]
    },
    {
      "cell_type": "code",
      "execution_count": null,
      "metadata": {
        "id": "bDIIs3P1yD2E",
        "outputId": "b3509ebd-63e2-42b2-b43a-6bfb32a92f73"
      },
      "outputs": [
        {
          "data": {
            "text/plain": [
              "<AxesSubplot:xlabel='marital'>"
            ]
          },
          "execution_count": 94,
          "metadata": {},
          "output_type": "execute_result"
        },
        {
          "data": {
            "image/png": "[encoded data removed]",
            "text/plain": [
              "<Figure size 432x288 with 1 Axes>"
            ]
          },
          "metadata": {
            "needs_background": "light"
          },
          "output_type": "display_data"
        }
      ],
      "source": [
        "#здесь написать ответ\n",
        "df.groupby('marital')['minority'].value_counts().unstack().plot(kind = 'bar', stacked = True)"
      ]
    },
    {
      "cell_type": "markdown",
      "metadata": {
        "id": "hsZEZXPSyD2E"
      },
      "source": [
        "Распределение по национальным меньшинствам и семейному положению дало нормальное распределение"
      ]
    },
    {
      "cell_type": "code",
      "execution_count": null,
      "metadata": {
        "id": "NymQH0U2yD2F",
        "outputId": "cbb145d5-4367-450a-8afa-a045e8a0aaae"
      },
      "outputs": [
        {
          "name": "stdout",
          "output_type": "stream",
          "text": [
            "{'married': 334, 'single': 85, 'divorced': 52, 'unknown': 3}\n"
          ]
        },
        {
          "data": {
            "application/vnd.plotly.v1+json": {
              "config": {
                "plotlyServerURL": "https://plot.ly"
              },
              "data": [
                {
                  "labels": [
                    "married",
                    "single",
                    "divorced",
                    "unknown"
                  ],
                  "type": "pie",
                  "values": [
                    334,
                    85,
                    52,
                    3
                  ]
                }
              ],
              "layout": {
                "autosize": true,
                "template": {
                  "data": {
                    "bar": [
                      {
                        "error_x": {
                          "color": "#2a3f5f"
                        },
                        "error_y": {
                          "color": "#2a3f5f"
                        },
                        "marker": {
                          "line": {
                            "color": "#E5ECF6",
                            "width": 0.5
                          },
                          "pattern": {
                            "fillmode": "overlay",
                            "size": 10,
                            "solidity": 0.2
                          }
                        },
                        "type": "bar"
                      }
                    ],
                    "barpolar": [
                      {
                        "marker": {
                          "line": {
                            "color": "#E5ECF6",
                            "width": 0.5
                          },
                          "pattern": {
                            "fillmode": "overlay",
                            "size": 10,
                            "solidity": 0.2
                          }
                        },
                        "type": "barpolar"
                      }
                    ],
                    "carpet": [
                      {
                        "aaxis": {
                          "endlinecolor": "#2a3f5f",
                          "gridcolor": "white",
                          "linecolor": "white",
                          "minorgridcolor": "white",
                          "startlinecolor": "#2a3f5f"
                        },
                        "baxis": {
                          "endlinecolor": "#2a3f5f",
                          "gridcolor": "white",
                          "linecolor": "white",
                          "minorgridcolor": "white",
                          "startlinecolor": "#2a3f5f"
                        },
                        "type": "carpet"
                      }
                    ],
                    "choropleth": [
                      {
                        "colorbar": {
                          "outlinewidth": 0,
                          "ticks": ""
                        },
                        "type": "choropleth"
                      }
                    ],
                    "contour": [
                      {
                        "colorbar": {
                          "outlinewidth": 0,
                          "ticks": ""
                        },
                        "colorscale": [
                          [
                            0,
                            "#0d0887"
                          ],
                          [
                            0.1111111111111111,
                            "#46039f"
                          ],
                          [
                            0.2222222222222222,
                            "#7201a8"
                          ],
                          [
                            0.3333333333333333,
                            "#9c179e"
                          ],
                          [
                            0.4444444444444444,
                            "#bd3786"
                          ],
                          [
                            0.5555555555555556,
                            "#d8576b"
                          ],
                          [
                            0.6666666666666666,
                            "#ed7953"
                          ],
                          [
                            0.7777777777777778,
                            "#fb9f3a"
                          ],
                          [
                            0.8888888888888888,
                            "#fdca26"
                          ],
                          [
                            1,
                            "#f0f921"
                          ]
                        ],
                        "type": "contour"
                      }
                    ],
                    "contourcarpet": [
                      {
                        "colorbar": {
                          "outlinewidth": 0,
                          "ticks": ""
                        },
                        "type": "contourcarpet"
                      }
                    ],
                    "heatmap": [
                      {
                        "colorbar": {
                          "outlinewidth": 0,
                          "ticks": ""
                        },
                        "colorscale": [
                          [
                            0,
                            "#0d0887"
                          ],
                          [
                            0.1111111111111111,
                            "#46039f"
                          ],
                          [
                            0.2222222222222222,
                            "#7201a8"
                          ],
                          [
                            0.3333333333333333,
                            "#9c179e"
                          ],
                          [
                            0.4444444444444444,
                            "#bd3786"
                          ],
                          [
                            0.5555555555555556,
                            "#d8576b"
                          ],
                          [
                            0.6666666666666666,
                            "#ed7953"
                          ],
                          [
                            0.7777777777777778,
                            "#fb9f3a"
                          ],
                          [
                            0.8888888888888888,
                            "#fdca26"
                          ],
                          [
                            1,
                            "#f0f921"
                          ]
                        ],
                        "type": "heatmap"
                      }
                    ],
                    "heatmapgl": [
                      {
                        "colorbar": {
                          "outlinewidth": 0,
                          "ticks": ""
                        },
                        "colorscale": [
                          [
                            0,
                            "#0d0887"
                          ],
                          [
                            0.1111111111111111,
                            "#46039f"
                          ],
                          [
                            0.2222222222222222,
                            "#7201a8"
                          ],
                          [
                            0.3333333333333333,
                            "#9c179e"
                          ],
                          [
                            0.4444444444444444,
                            "#bd3786"
                          ],
                          [
                            0.5555555555555556,
                            "#d8576b"
                          ],
                          [
                            0.6666666666666666,
                            "#ed7953"
                          ],
                          [
                            0.7777777777777778,
                            "#fb9f3a"
                          ],
                          [
                            0.8888888888888888,
                            "#fdca26"
                          ],
                          [
                            1,
                            "#f0f921"
                          ]
                        ],
                        "type": "heatmapgl"
                      }
                    ],
                    "histogram": [
                      {
                        "marker": {
                          "pattern": {
                            "fillmode": "overlay",
                            "size": 10,
                            "solidity": 0.2
                          }
                        },
                        "type": "histogram"
                      }
                    ],
                    "histogram2d": [
                      {
                        "colorbar": {
                          "outlinewidth": 0,
                          "ticks": ""
                        },
                        "colorscale": [
                          [
                            0,
                            "#0d0887"
                          ],
                          [
                            0.1111111111111111,
                            "#46039f"
                          ],
                          [
                            0.2222222222222222,
                            "#7201a8"
                          ],
                          [
                            0.3333333333333333,
                            "#9c179e"
                          ],
                          [
                            0.4444444444444444,
                            "#bd3786"
                          ],
                          [
                            0.5555555555555556,
                            "#d8576b"
                          ],
                          [
                            0.6666666666666666,
                            "#ed7953"
                          ],
                          [
                            0.7777777777777778,
                            "#fb9f3a"
                          ],
                          [
                            0.8888888888888888,
                            "#fdca26"
                          ],
                          [
                            1,
                            "#f0f921"
                          ]
                        ],
                        "type": "histogram2d"
                      }
                    ],
                    "histogram2dcontour": [
                      {
                        "colorbar": {
                          "outlinewidth": 0,
                          "ticks": ""
                        },
                        "colorscale": [
                          [
                            0,
                            "#0d0887"
                          ],
                          [
                            0.1111111111111111,
                            "#46039f"
                          ],
                          [
                            0.2222222222222222,
                            "#7201a8"
                          ],
                          [
                            0.3333333333333333,
                            "#9c179e"
                          ],
                          [
                            0.4444444444444444,
                            "#bd3786"
                          ],
                          [
                            0.5555555555555556,
                            "#d8576b"
                          ],
                          [
                            0.6666666666666666,
                            "#ed7953"
                          ],
                          [
                            0.7777777777777778,
                            "#fb9f3a"
                          ],
                          [
                            0.8888888888888888,
                            "#fdca26"
                          ],
                          [
                            1,
                            "#f0f921"
                          ]
                        ],
                        "type": "histogram2dcontour"
                      }
                    ],
                    "mesh3d": [
                      {
                        "colorbar": {
                          "outlinewidth": 0,
                          "ticks": ""
                        },
                        "type": "mesh3d"
                      }
                    ],
                    "parcoords": [
                      {
                        "line": {
                          "colorbar": {
                            "outlinewidth": 0,
                            "ticks": ""
                          }
                        },
                        "type": "parcoords"
                      }
                    ],
                    "pie": [
                      {
                        "automargin": true,
                        "type": "pie"
                      }
                    ],
                    "scatter": [
                      {
                        "marker": {
                          "colorbar": {
                            "outlinewidth": 0,
                            "ticks": ""
                          }
                        },
                        "type": "scatter"
                      }
                    ],
                    "scatter3d": [
                      {
                        "line": {
                          "colorbar": {
                            "outlinewidth": 0,
                            "ticks": ""
                          }
                        },
                        "marker": {
                          "colorbar": {
                            "outlinewidth": 0,
                            "ticks": ""
                          }
                        },
                        "type": "scatter3d"
                      }
                    ],
                    "scattercarpet": [
                      {
                        "marker": {
                          "colorbar": {
                            "outlinewidth": 0,
                            "ticks": ""
                          }
                        },
                        "type": "scattercarpet"
                      }
                    ],
                    "scattergeo": [
                      {
                        "marker": {
                          "colorbar": {
                            "outlinewidth": 0,
                            "ticks": ""
                          }
                        },
                        "type": "scattergeo"
                      }
                    ],
                    "scattergl": [
                      {
                        "marker": {
                          "colorbar": {
                            "outlinewidth": 0,
                            "ticks": ""
                          }
                        },
                        "type": "scattergl"
                      }
                    ],
                    "scattermapbox": [
                      {
                        "marker": {
                          "colorbar": {
                            "outlinewidth": 0,
                            "ticks": ""
                          }
                        },
                        "type": "scattermapbox"
                      }
                    ],
                    "scatterpolar": [
                      {
                        "marker": {
                          "colorbar": {
                            "outlinewidth": 0,
                            "ticks": ""
                          }
                        },
                        "type": "scatterpolar"
                      }
                    ],
                    "scatterpolargl": [
                      {
                        "marker": {
                          "colorbar": {
                            "outlinewidth": 0,
                            "ticks": ""
                          }
                        },
                        "type": "scatterpolargl"
                      }
                    ],
                    "scatterternary": [
                      {
                        "marker": {
                          "colorbar": {
                            "outlinewidth": 0,
                            "ticks": ""
                          }
                        },
                        "type": "scatterternary"
                      }
                    ],
                    "surface": [
                      {
                        "colorbar": {
                          "outlinewidth": 0,
                          "ticks": ""
                        },
                        "colorscale": [
                          [
                            0,
                            "#0d0887"
                          ],
                          [
                            0.1111111111111111,
                            "#46039f"
                          ],
                          [
                            0.2222222222222222,
                            "#7201a8"
                          ],
                          [
                            0.3333333333333333,
                            "#9c179e"
                          ],
                          [
                            0.4444444444444444,
                            "#bd3786"
                          ],
                          [
                            0.5555555555555556,
                            "#d8576b"
                          ],
                          [
                            0.6666666666666666,
                            "#ed7953"
                          ],
                          [
                            0.7777777777777778,
                            "#fb9f3a"
                          ],
                          [
                            0.8888888888888888,
                            "#fdca26"
                          ],
                          [
                            1,
                            "#f0f921"
                          ]
                        ],
                        "type": "surface"
                      }
                    ],
                    "table": [
                      {
                        "cells": {
                          "fill": {
                            "color": "#EBF0F8"
                          },
                          "line": {
                            "color": "white"
                          }
                        },
                        "header": {
                          "fill": {
                            "color": "#C8D4E3"
                          },
                          "line": {
                            "color": "white"
                          }
                        },
                        "type": "table"
                      }
                    ]
                  },
                  "layout": {
                    "annotationdefaults": {
                      "arrowcolor": "#2a3f5f",
                      "arrowhead": 0,
                      "arrowwidth": 1
                    },
                    "autotypenumbers": "strict",
                    "coloraxis": {
                      "colorbar": {
                        "outlinewidth": 0,
                        "ticks": ""
                      }
                    },
                    "colorscale": {
                      "diverging": [
                        [
                          0,
                          "#8e0152"
                        ],
                        [
                          0.1,
                          "#c51b7d"
                        ],
                        [
                          0.2,
                          "#de77ae"
                        ],
                        [
                          0.3,
                          "#f1b6da"
                        ],
                        [
                          0.4,
                          "#fde0ef"
                        ],
                        [
                          0.5,
                          "#f7f7f7"
                        ],
                        [
                          0.6,
                          "#e6f5d0"
                        ],
                        [
                          0.7,
                          "#b8e186"
                        ],
                        [
                          0.8,
                          "#7fbc41"
                        ],
                        [
                          0.9,
                          "#4d9221"
                        ],
                        [
                          1,
                          "#276419"
                        ]
                      ],
                      "sequential": [
                        [
                          0,
                          "#0d0887"
                        ],
                        [
                          0.1111111111111111,
                          "#46039f"
                        ],
                        [
                          0.2222222222222222,
                          "#7201a8"
                        ],
                        [
                          0.3333333333333333,
                          "#9c179e"
                        ],
                        [
                          0.4444444444444444,
                          "#bd3786"
                        ],
                        [
                          0.5555555555555556,
                          "#d8576b"
                        ],
                        [
                          0.6666666666666666,
                          "#ed7953"
                        ],
                        [
                          0.7777777777777778,
                          "#fb9f3a"
                        ],
                        [
                          0.8888888888888888,
                          "#fdca26"
                        ],
                        [
                          1,
                          "#f0f921"
                        ]
                      ],
                      "sequentialminus": [
                        [
                          0,
                          "#0d0887"
                        ],
                        [
                          0.1111111111111111,
                          "#46039f"
                        ],
                        [
                          0.2222222222222222,
                          "#7201a8"
                        ],
                        [
                          0.3333333333333333,
                          "#9c179e"
                        ],
                        [
                          0.4444444444444444,
                          "#bd3786"
                        ],
                        [
                          0.5555555555555556,
                          "#d8576b"
                        ],
                        [
                          0.6666666666666666,
                          "#ed7953"
                        ],
                        [
                          0.7777777777777778,
                          "#fb9f3a"
                        ],
                        [
                          0.8888888888888888,
                          "#fdca26"
                        ],
                        [
                          1,
                          "#f0f921"
                        ]
                      ]
                    },
                    "colorway": [
                      "#636efa",
                      "#EF553B",
                      "#00cc96",
                      "#ab63fa",
                      "#FFA15A",
                      "#19d3f3",
                      "#FF6692",
                      "#B6E880",
                      "#FF97FF",
                      "#FECB52"
                    ],
                    "font": {
                      "color": "#2a3f5f"
                    },
                    "geo": {
                      "bgcolor": "white",
                      "lakecolor": "white",
                      "landcolor": "#E5ECF6",
                      "showlakes": true,
                      "showland": true,
                      "subunitcolor": "white"
                    },
                    "hoverlabel": {
                      "align": "left"
                    },
                    "hovermode": "closest",
                    "mapbox": {
                      "style": "light"
                    },
                    "paper_bgcolor": "white",
                    "plot_bgcolor": "#E5ECF6",
                    "polar": {
                      "angularaxis": {
                        "gridcolor": "white",
                        "linecolor": "white",
                        "ticks": ""
                      },
                      "bgcolor": "#E5ECF6",
                      "radialaxis": {
                        "gridcolor": "white",
                        "linecolor": "white",
                        "ticks": ""
                      }
                    },
                    "scene": {
                      "xaxis": {
                        "backgroundcolor": "#E5ECF6",
                        "gridcolor": "white",
                        "gridwidth": 2,
                        "linecolor": "white",
                        "showbackground": true,
                        "ticks": "",
                        "zerolinecolor": "white"
                      },
                      "yaxis": {
                        "backgroundcolor": "#E5ECF6",
                        "gridcolor": "white",
                        "gridwidth": 2,
                        "linecolor": "white",
                        "showbackground": true,
                        "ticks": "",
                        "zerolinecolor": "white"
                      },
                      "zaxis": {
                        "backgroundcolor": "#E5ECF6",
                        "gridcolor": "white",
                        "gridwidth": 2,
                        "linecolor": "white",
                        "showbackground": true,
                        "ticks": "",
                        "zerolinecolor": "white"
                      }
                    },
                    "shapedefaults": {
                      "line": {
                        "color": "#2a3f5f"
                      }
                    },
                    "ternary": {
                      "aaxis": {
                        "gridcolor": "white",
                        "linecolor": "white",
                        "ticks": ""
                      },
                      "baxis": {
                        "gridcolor": "white",
                        "linecolor": "white",
                        "ticks": ""
                      },
                      "bgcolor": "#E5ECF6",
                      "caxis": {
                        "gridcolor": "white",
                        "linecolor": "white",
                        "ticks": ""
                      }
                    },
                    "title": {
                      "x": 0.05
                    },
                    "xaxis": {
                      "automargin": true,
                      "gridcolor": "white",
                      "linecolor": "white",
                      "ticks": "",
                      "title": {
                        "standoff": 15
                      },
                      "zerolinecolor": "white",
                      "zerolinewidth": 2
                    },
                    "yaxis": {
                      "automargin": true,
                      "gridcolor": "white",
                      "linecolor": "white",
                      "ticks": "",
                      "title": {
                        "standoff": 15
                      },
                      "zerolinecolor": "white",
                      "zerolinewidth": 2
                    }
                  }
                },
                "title": {
                  "text": "Зависимость между зарплатой и семейным положением"
                }
              }
            },
            "image/png": "[encoded data removed]",
            "text/html": [
              "<div>                            <div id=\"17076937-4f3a-4df0-bd44-9176ce9fadaf\" class=\"plotly-graph-div\" style=\"height:525px; width:100%;\"></div>            <script type=\"text/javascript\">                require([\"plotly\"], function(Plotly) {                    window.PLOTLYENV=window.PLOTLYENV || {};                                    if (document.getElementById(\"17076937-4f3a-4df0-bd44-9176ce9fadaf\")) {                    Plotly.newPlot(                        \"17076937-4f3a-4df0-bd44-9176ce9fadaf\",                        [{\"labels\":[\"married\",\"single\",\"divorced\",\"unknown\"],\"values\":[334,85,52,3],\"type\":\"pie\"}],                        {\"template\":{\"data\":{\"bar\":[{\"error_x\":{\"color\":\"#2a3f5f\"},\"error_y\":{\"color\":\"#2a3f5f\"},\"marker\":{\"line\":{\"color\":\"#E5ECF6\",\"width\":0.5},\"pattern\":{\"fillmode\":\"overlay\",\"size\":10,\"solidity\":0.2}},\"type\":\"bar\"}],\"barpolar\":[{\"marker\":{\"line\":{\"color\":\"#E5ECF6\",\"width\":0.5},\"pattern\":{\"fillmode\":\"overlay\",\"size\":10,\"solidity\":0.2}},\"type\":\"barpolar\"}],\"carpet\":[{\"aaxis\":{\"endlinecolor\":\"#2a3f5f\",\"gridcolor\":\"white\",\"linecolor\":\"white\",\"minorgridcolor\":\"white\",\"startlinecolor\":\"#2a3f5f\"},\"baxis\":{\"endlinecolor\":\"#2a3f5f\",\"gridcolor\":\"white\",\"linecolor\":\"white\",\"minorgridcolor\":\"white\",\"startlinecolor\":\"#2a3f5f\"},\"type\":\"carpet\"}],\"choropleth\":[{\"colorbar\":{\"outlinewidth\":0,\"ticks\":\"\"},\"type\":\"choropleth\"}],\"contour\":[{\"colorbar\":{\"outlinewidth\":0,\"ticks\":\"\"},\"colorscale\":[[0.0,\"#0d0887\"],[0.1111111111111111,\"#46039f\"],[0.2222222222222222,\"#7201a8\"],[0.3333333333333333,\"#9c179e\"],[0.4444444444444444,\"#bd3786\"],[0.5555555555555556,\"#d8576b\"],[0.6666666666666666,\"#ed7953\"],[0.7777777777777778,\"#fb9f3a\"],[0.8888888888888888,\"#fdca26\"],[1.0,\"#f0f921\"]],\"type\":\"contour\"}],\"contourcarpet\":[{\"colorbar\":{\"outlinewidth\":0,\"ticks\":\"\"},\"type\":\"contourcarpet\"}],\"heatmap\":[{\"colorbar\":{\"outlinewidth\":0,\"ticks\":\"\"},\"colorscale\":[[0.0,\"#0d0887\"],[0.1111111111111111,\"#46039f\"],[0.2222222222222222,\"#7201a8\"],[0.3333333333333333,\"#9c179e\"],[0.4444444444444444,\"#bd3786\"],[0.5555555555555556,\"#d8576b\"],[0.6666666666666666,\"#ed7953\"],[0.7777777777777778,\"#fb9f3a\"],[0.8888888888888888,\"#fdca26\"],[1.0,\"#f0f921\"]],\"type\":\"heatmap\"}],\"heatmapgl\":[{\"colorbar\":{\"outlinewidth\":0,\"ticks\":\"\"},\"colorscale\":[[0.0,\"#0d0887\"],[0.1111111111111111,\"#46039f\"],[0.2222222222222222,\"#7201a8\"],[0.3333333333333333,\"#9c179e\"],[0.4444444444444444,\"#bd3786\"],[0.5555555555555556,\"#d8576b\"],[0.6666666666666666,\"#ed7953\"],[0.7777777777777778,\"#fb9f3a\"],[0.8888888888888888,\"#fdca26\"],[1.0,\"#f0f921\"]],\"type\":\"heatmapgl\"}],\"histogram\":[{\"marker\":{\"pattern\":{\"fillmode\":\"overlay\",\"size\":10,\"solidity\":0.2}},\"type\":\"histogram\"}],\"histogram2d\":[{\"colorbar\":{\"outlinewidth\":0,\"ticks\":\"\"},\"colorscale\":[[0.0,\"#0d0887\"],[0.1111111111111111,\"#46039f\"],[0.2222222222222222,\"#7201a8\"],[0.3333333333333333,\"#9c179e\"],[0.4444444444444444,\"#bd3786\"],[0.5555555555555556,\"#d8576b\"],[0.6666666666666666,\"#ed7953\"],[0.7777777777777778,\"#fb9f3a\"],[0.8888888888888888,\"#fdca26\"],[1.0,\"#f0f921\"]],\"type\":\"histogram2d\"}],\"histogram2dcontour\":[{\"colorbar\":{\"outlinewidth\":0,\"ticks\":\"\"},\"colorscale\":[[0.0,\"#0d0887\"],[0.1111111111111111,\"#46039f\"],[0.2222222222222222,\"#7201a8\"],[0.3333333333333333,\"#9c179e\"],[0.4444444444444444,\"#bd3786\"],[0.5555555555555556,\"#d8576b\"],[0.6666666666666666,\"#ed7953\"],[0.7777777777777778,\"#fb9f3a\"],[0.8888888888888888,\"#fdca26\"],[1.0,\"#f0f921\"]],\"type\":\"histogram2dcontour\"}],\"mesh3d\":[{\"colorbar\":{\"outlinewidth\":0,\"ticks\":\"\"},\"type\":\"mesh3d\"}],\"parcoords\":[{\"line\":{\"colorbar\":{\"outlinewidth\":0,\"ticks\":\"\"}},\"type\":\"parcoords\"}],\"pie\":[{\"automargin\":true,\"type\":\"pie\"}],\"scatter\":[{\"marker\":{\"colorbar\":{\"outlinewidth\":0,\"ticks\":\"\"}},\"type\":\"scatter\"}],\"scatter3d\":[{\"line\":{\"colorbar\":{\"outlinewidth\":0,\"ticks\":\"\"}},\"marker\":{\"colorbar\":{\"outlinewidth\":0,\"ticks\":\"\"}},\"type\":\"scatter3d\"}],\"scattercarpet\":[{\"marker\":{\"colorbar\":{\"outlinewidth\":0,\"ticks\":\"\"}},\"type\":\"scattercarpet\"}],\"scattergeo\":[{\"marker\":{\"colorbar\":{\"outlinewidth\":0,\"ticks\":\"\"}},\"type\":\"scattergeo\"}],\"scattergl\":[{\"marker\":{\"colorbar\":{\"outlinewidth\":0,\"ticks\":\"\"}},\"type\":\"scattergl\"}],\"scattermapbox\":[{\"marker\":{\"colorbar\":{\"outlinewidth\":0,\"ticks\":\"\"}},\"type\":\"scattermapbox\"}],\"scatterpolar\":[{\"marker\":{\"colorbar\":{\"outlinewidth\":0,\"ticks\":\"\"}},\"type\":\"scatterpolar\"}],\"scatterpolargl\":[{\"marker\":{\"colorbar\":{\"outlinewidth\":0,\"ticks\":\"\"}},\"type\":\"scatterpolargl\"}],\"scatterternary\":[{\"marker\":{\"colorbar\":{\"outlinewidth\":0,\"ticks\":\"\"}},\"type\":\"scatterternary\"}],\"surface\":[{\"colorbar\":{\"outlinewidth\":0,\"ticks\":\"\"},\"colorscale\":[[0.0,\"#0d0887\"],[0.1111111111111111,\"#46039f\"],[0.2222222222222222,\"#7201a8\"],[0.3333333333333333,\"#9c179e\"],[0.4444444444444444,\"#bd3786\"],[0.5555555555555556,\"#d8576b\"],[0.6666666666666666,\"#ed7953\"],[0.7777777777777778,\"#fb9f3a\"],[0.8888888888888888,\"#fdca26\"],[1.0,\"#f0f921\"]],\"type\":\"surface\"}],\"table\":[{\"cells\":{\"fill\":{\"color\":\"#EBF0F8\"},\"line\":{\"color\":\"white\"}},\"header\":{\"fill\":{\"color\":\"#C8D4E3\"},\"line\":{\"color\":\"white\"}},\"type\":\"table\"}]},\"layout\":{\"annotationdefaults\":{\"arrowcolor\":\"#2a3f5f\",\"arrowhead\":0,\"arrowwidth\":1},\"autotypenumbers\":\"strict\",\"coloraxis\":{\"colorbar\":{\"outlinewidth\":0,\"ticks\":\"\"}},\"colorscale\":{\"diverging\":[[0,\"#8e0152\"],[0.1,\"#c51b7d\"],[0.2,\"#de77ae\"],[0.3,\"#f1b6da\"],[0.4,\"#fde0ef\"],[0.5,\"#f7f7f7\"],[0.6,\"#e6f5d0\"],[0.7,\"#b8e186\"],[0.8,\"#7fbc41\"],[0.9,\"#4d9221\"],[1,\"#276419\"]],\"sequential\":[[0.0,\"#0d0887\"],[0.1111111111111111,\"#46039f\"],[0.2222222222222222,\"#7201a8\"],[0.3333333333333333,\"#9c179e\"],[0.4444444444444444,\"#bd3786\"],[0.5555555555555556,\"#d8576b\"],[0.6666666666666666,\"#ed7953\"],[0.7777777777777778,\"#fb9f3a\"],[0.8888888888888888,\"#fdca26\"],[1.0,\"#f0f921\"]],\"sequentialminus\":[[0.0,\"#0d0887\"],[0.1111111111111111,\"#46039f\"],[0.2222222222222222,\"#7201a8\"],[0.3333333333333333,\"#9c179e\"],[0.4444444444444444,\"#bd3786\"],[0.5555555555555556,\"#d8576b\"],[0.6666666666666666,\"#ed7953\"],[0.7777777777777778,\"#fb9f3a\"],[0.8888888888888888,\"#fdca26\"],[1.0,\"#f0f921\"]]},\"colorway\":[\"#636efa\",\"#EF553B\",\"#00cc96\",\"#ab63fa\",\"#FFA15A\",\"#19d3f3\",\"#FF6692\",\"#B6E880\",\"#FF97FF\",\"#FECB52\"],\"font\":{\"color\":\"#2a3f5f\"},\"geo\":{\"bgcolor\":\"white\",\"lakecolor\":\"white\",\"landcolor\":\"#E5ECF6\",\"showlakes\":true,\"showland\":true,\"subunitcolor\":\"white\"},\"hoverlabel\":{\"align\":\"left\"},\"hovermode\":\"closest\",\"mapbox\":{\"style\":\"light\"},\"paper_bgcolor\":\"white\",\"plot_bgcolor\":\"#E5ECF6\",\"polar\":{\"angularaxis\":{\"gridcolor\":\"white\",\"linecolor\":\"white\",\"ticks\":\"\"},\"bgcolor\":\"#E5ECF6\",\"radialaxis\":{\"gridcolor\":\"white\",\"linecolor\":\"white\",\"ticks\":\"\"}},\"scene\":{\"xaxis\":{\"backgroundcolor\":\"#E5ECF6\",\"gridcolor\":\"white\",\"gridwidth\":2,\"linecolor\":\"white\",\"showbackground\":true,\"ticks\":\"\",\"zerolinecolor\":\"white\"},\"yaxis\":{\"backgroundcolor\":\"#E5ECF6\",\"gridcolor\":\"white\",\"gridwidth\":2,\"linecolor\":\"white\",\"showbackground\":true,\"ticks\":\"\",\"zerolinecolor\":\"white\"},\"zaxis\":{\"backgroundcolor\":\"#E5ECF6\",\"gridcolor\":\"white\",\"gridwidth\":2,\"linecolor\":\"white\",\"showbackground\":true,\"ticks\":\"\",\"zerolinecolor\":\"white\"}},\"shapedefaults\":{\"line\":{\"color\":\"#2a3f5f\"}},\"ternary\":{\"aaxis\":{\"gridcolor\":\"white\",\"linecolor\":\"white\",\"ticks\":\"\"},\"baxis\":{\"gridcolor\":\"white\",\"linecolor\":\"white\",\"ticks\":\"\"},\"bgcolor\":\"#E5ECF6\",\"caxis\":{\"gridcolor\":\"white\",\"linecolor\":\"white\",\"ticks\":\"\"}},\"title\":{\"x\":0.05},\"xaxis\":{\"automargin\":true,\"gridcolor\":\"white\",\"linecolor\":\"white\",\"ticks\":\"\",\"title\":{\"standoff\":15},\"zerolinecolor\":\"white\",\"zerolinewidth\":2},\"yaxis\":{\"automargin\":true,\"gridcolor\":\"white\",\"linecolor\":\"white\",\"ticks\":\"\",\"title\":{\"standoff\":15},\"zerolinecolor\":\"white\",\"zerolinewidth\":2}}},\"title\":{\"text\":\"\\u0417\\u0430\\u0432\\u0438\\u0441\\u0438\\u043c\\u043e\\u0441\\u0442\\u044c \\u043c\\u0435\\u0436\\u0434\\u0443 \\u0437\\u0430\\u0440\\u043f\\u043b\\u0430\\u0442\\u043e\\u0439 \\u0438 \\u0441\\u0435\\u043c\\u0435\\u0439\\u043d\\u044b\\u043c \\u043f\\u043e\\u043b\\u043e\\u0436\\u0435\\u043d\\u0438\\u0435\\u043c\"}},                        {\"responsive\": true}                    ).then(function(){\n",
              "                            \n",
              "var gd = document.getElementById('17076937-4f3a-4df0-bd44-9176ce9fadaf');\n",
              "var x = new MutationObserver(function (mutations, observer) {{\n",
              "        var display = window.getComputedStyle(gd).display;\n",
              "        if (!display || display === 'none') {{\n",
              "            console.log([gd, 'removed!']);\n",
              "            Plotly.purge(gd);\n",
              "            observer.disconnect();\n",
              "        }}\n",
              "}});\n",
              "\n",
              "// Listen for the removal of the full notebook cells\n",
              "var notebookContainer = gd.closest('#notebook-container');\n",
              "if (notebookContainer) {{\n",
              "    x.observe(notebookContainer, {childList: true});\n",
              "}}\n",
              "\n",
              "// Listen for the clearing of the current output cell\n",
              "var outputEl = gd.closest('.output');\n",
              "if (outputEl) {{\n",
              "    x.observe(outputEl, {childList: true});\n",
              "}}\n",
              "\n",
              "                        })                };                });            </script>        </div>"
            ]
          },
          "metadata": {},
          "output_type": "display_data"
        }
      ],
      "source": [
        "d=dict()\n",
        "for i,x in enumerate(df['marital']):\n",
        "    try:\n",
        "        for j in [x]:\n",
        "            if j in d:\n",
        "                d[j]+=1\n",
        "            else:\n",
        "                d[j]=1\n",
        "    except:\n",
        "        pass\n",
        "print(d)\n",
        "sum_counts = pd.Series(d)\n",
        "fig = go.Figure()\n",
        "fig.add_trace(go.Pie(values=sum_counts, labels=sum_counts.index))\n",
        "fig.update_layout(title=\"Зависимость между количеством и семейным положением\")\n",
        "fig.show()"
      ]
    },
    {
      "cell_type": "markdown",
      "metadata": {
        "id": "lutVjb4xyD2F"
      },
      "source": [
        "1.15. Сформулируйте не менее 5 исследовательских гипотез. Какие из них нашли подтверждение, а какие были опровергнуты по результатам анализа данных?"
      ]
    },
    {
      "cell_type": "markdown",
      "metadata": {
        "id": "mq0PdAxeyD2F"
      },
      "source": [
        "# Вывод\n",
        "1. Лидирующие по зарплатам позиции занимают мужчины ( это подтвердилось на основе сортировке топ-20 мужчины)\n",
        "2. Люди ,относящиеся к меньшинствам в основном одиноки ( это нет так , видно за свет последне диаграммы)\n",
        "3. Подавляющее большинство программистов мужчины ( нет 56 процентов девушки )\n",
        "4. Время с момента найма напрямую влияет на зарплату ( нет , врем с момента найма пояти не влияет на получаемую зарплату)\n",
        "5. Техники женщины составляю около 25 процента штата техников ( ложь , в фирме техники женщины стремятся к нулю)\n",
        "6. Опыт работы прямопропорционален получаемой зарплате (нет, опыт работы  имеет слабую корреляцию со средне зарплатой видно из первой таблицы)"
      ]
    },
    {
      "cell_type": "markdown",
      "metadata": {
        "id": "4qR_vBLEyD2F"
      },
      "source": [
        "\n",
        "\n",
        "# Задание 2\n",
        "\n",
        "На веб-странице приведены результаты мониторинга деятельности российских вузов Центрального федерального округа за 2021 год (https://monitoring.miccedu.ru/iam/2021/_vpo/material.php?type=1&id=1). На странице округа представлен полный список вузов и филиалов. \n",
        "\n",
        "Ссылки на страницы образовательных учреждений отличаются только окончанием. Например, ссылка на страницу НИУ ВШЭ - https://monitoring.miccedu.ru/iam/2021/_vpo/inst.php?id=1766. Ссылка на любой другой вуз будет отличаться только значением цифр в конце после «id=». \n",
        "\n",
        "Нужно собрать со всех веб-страниц образовательных учреждений Центрального федерального округа информацию по численности приведенного контингента студентов (далее - ПКС), обучающихся на четырёх укрупнённых группах специальностей:\n",
        "    \n",
        "    02.00.00 - Компьютерные и информационные науки\n",
        "    09.00.00 - Информатика и вычислительная техника\n",
        "    10.00.00 - Информационная безопасность\n",
        "    11.00.00 - Электроника, радиотехника и системы связи\n",
        "\n",
        "Не все вузы и филиалы обучают студентов по этим специальностям. Некоторые проводят обучение только по части перечисленных специальностей. Если вуз не обучает по искомой специальности, то в ячейке таблицы с данными нужно указать 0.\n",
        "\n",
        "Фрагмент веб-страницы представлен на рисунке. Нас интересуют 2-ая и 3-ая колонки таблицы.\n"
      ]
    },
    {
      "cell_type": "code",
      "execution_count": null,
      "metadata": {
        "id": "wIOy08oAyD2F"
      },
      "outputs": [],
      "source": [
        "from bs4 import BeautifulSoup\n",
        "import numpy as np\n",
        "import requests\n",
        "req = requests.get('https://studyinrussia.ru/study-in-russia/programs/')\n",
        "note = BeautifulSoup(req.text, 'html.parser')\n",
        "pages = [\"https://studyinrussia.ru/study-in-russia/programs/\"]\n",
        "for i in range(2, 11):\n",
        "    url = \"https://studyinrussia.ru/study-in-russia/programs/\" #абсолютный адрес в относительный\n",
        "    url += \"?PAGEN_1=\" + str(i)\n",
        "    pages.append(url)\n",
        "program_names = []\n",
        "university_names = []\n",
        "cities = []\n",
        "orientations = []\n",
        "levels = []\n",
        "languages = []\n",
        "continuations = []\n",
        "education_forms = []\n",
        "free_educations = []\n",
        "education_costs = []\n",
        "education_places = []\n",
        "href_for_more_infos = []"
      ]
    },
    {
      "cell_type": "code",
      "execution_count": null,
      "metadata": {
        "id": "PLY-dWGlyD2G",
        "outputId": "02758a57-d873-4376-b2eb-1a3b2eeb690d"
      },
      "outputs": [
        {
          "data": {
            "text/html": [
              "<div>\n",
              "<style scoped>\n",
              "    .dataframe tbody tr th:only-of-type {\n",
              "        vertical-align: middle;\n",
              "    }\n",
              "\n",
              "    .dataframe tbody tr th {\n",
              "        vertical-align: top;\n",
              "    }\n",
              "\n",
              "    .dataframe thead th {\n",
              "        text-align: right;\n",
              "    }\n",
              "</style>\n",
              "<table border=\"1\" class=\"dataframe\">\n",
              "  <thead>\n",
              "    <tr style=\"text-align: right;\">\n",
              "      <th></th>\n",
              "      <th>Name</th>\n",
              "      <th>University</th>\n",
              "      <th>City</th>\n",
              "      <th>Orientation</th>\n",
              "      <th>Level</th>\n",
              "      <th>Language</th>\n",
              "      <th>Period</th>\n",
              "      <th>EduFORM</th>\n",
              "      <th>Free</th>\n",
              "      <th>Price</th>\n",
              "      <th>Place</th>\n",
              "      <th>Url</th>\n",
              "    </tr>\n",
              "  </thead>\n",
              "  <tbody>\n",
              "    <tr>\n",
              "      <th>0</th>\n",
              "      <td>Маркетинг</td>\n",
              "      <td>СФУ</td>\n",
              "      <td>Красноярск</td>\n",
              "      <td>Экономика и управление</td>\n",
              "      <td>магистратура</td>\n",
              "      <td>русский</td>\n",
              "      <td>2 года</td>\n",
              "      <td>Очная</td>\n",
              "      <td>есть</td>\n",
              "      <td>166 246 рублей/год</td>\n",
              "      <td>Красноярск</td>\n",
              "      <td>https://studyinrussia.ru/life-in-russia/discov...</td>\n",
              "    </tr>\n",
              "    <tr>\n",
              "      <th>1</th>\n",
              "      <td>Математическое моделирование, численные методы...</td>\n",
              "      <td>МИФИ</td>\n",
              "      <td>Москва</td>\n",
              "      <td>Информатика и вычислительная техника</td>\n",
              "      <td>аспирантура</td>\n",
              "      <td>русский, английский</td>\n",
              "      <td>4 года</td>\n",
              "      <td>Очная</td>\n",
              "      <td>есть</td>\n",
              "      <td>325 000  руб. в год</td>\n",
              "      <td>Москва</td>\n",
              "      <td>https://studyinrussia.ru/life-in-russia/discov...</td>\n",
              "    </tr>\n",
              "    <tr>\n",
              "      <th>2</th>\n",
              "      <td>Управляемый термоядерный синтез и плазменные т...</td>\n",
              "      <td>МИФИ</td>\n",
              "      <td>Москва</td>\n",
              "      <td>Ядерная энергетика и технологии</td>\n",
              "      <td>бакалавриат</td>\n",
              "      <td>английский</td>\n",
              "      <td>4 года</td>\n",
              "      <td>Очная</td>\n",
              "      <td>есть</td>\n",
              "      <td>148300 рублей в семестр</td>\n",
              "      <td>Москва</td>\n",
              "      <td>https://studyinrussia.ru/life-in-russia/discov...</td>\n",
              "    </tr>\n",
              "    <tr>\n",
              "      <th>3</th>\n",
              "      <td>Физика конденсированных сред и функциональных ...</td>\n",
              "      <td>СПбПУ</td>\n",
              "      <td>Санкт-Петербург</td>\n",
              "      <td>Физико-технические науки и технологии</td>\n",
              "      <td>магистратура</td>\n",
              "      <td>английский</td>\n",
              "      <td>2 года</td>\n",
              "      <td>Очная</td>\n",
              "      <td>есть</td>\n",
              "      <td>305 000 рублей</td>\n",
              "      <td>Санкт-Петербург</td>\n",
              "      <td>https://studyinrussia.ru/life-in-russia/discov...</td>\n",
              "    </tr>\n",
              "    <tr>\n",
              "      <th>4</th>\n",
              "      <td>«Летний университет 2021»</td>\n",
              "      <td>СФУ</td>\n",
              "      <td>Красноярск</td>\n",
              "      <td>NaN</td>\n",
              "      <td>NaN</td>\n",
              "      <td>NaN</td>\n",
              "      <td>2 недели</td>\n",
              "      <td>Дистанционная</td>\n",
              "      <td>есть</td>\n",
              "      <td>Бесплатно</td>\n",
              "      <td>Красноярск</td>\n",
              "      <td>https://studyinrussia.ru/life-in-russia/discov...</td>\n",
              "    </tr>\n",
              "  </tbody>\n",
              "</table>\n",
              "</div>"
            ],
            "text/plain": [
              "                                                Name University  \\\n",
              "0                                          Маркетинг        СФУ   \n",
              "1  Математическое моделирование, численные методы...       МИФИ   \n",
              "2  Управляемый термоядерный синтез и плазменные т...       МИФИ   \n",
              "3  Физика конденсированных сред и функциональных ...      СПбПУ   \n",
              "4                          «Летний университет 2021»        СФУ   \n",
              "\n",
              "              City                            Orientation         Level  \\\n",
              "0       Красноярск                 Экономика и управление  магистратура   \n",
              "1           Москва   Информатика и вычислительная техника   аспирантура   \n",
              "2           Москва        Ядерная энергетика и технологии   бакалавриат   \n",
              "3  Санкт-Петербург  Физико-технические науки и технологии  магистратура   \n",
              "4       Красноярск                                    NaN           NaN   \n",
              "\n",
              "              Language    Period        EduFORM  Free  \\\n",
              "0              русский    2 года          Очная  есть   \n",
              "1  русский, английский    4 года          Очная  есть   \n",
              "2           английский    4 года          Очная  есть   \n",
              "3           английский    2 года          Очная  есть   \n",
              "4                  NaN  2 недели  Дистанционная  есть   \n",
              "\n",
              "                     Price            Place  \\\n",
              "0       166 246 рублей/год       Красноярск   \n",
              "1      325 000  руб. в год           Москва   \n",
              "2  148300 рублей в семестр           Москва   \n",
              "3           305 000 рублей  Санкт-Петербург   \n",
              "4                Бесплатно       Красноярск   \n",
              "\n",
              "                                                 Url  \n",
              "0  https://studyinrussia.ru/life-in-russia/discov...  \n",
              "1  https://studyinrussia.ru/life-in-russia/discov...  \n",
              "2  https://studyinrussia.ru/life-in-russia/discov...  \n",
              "3  https://studyinrussia.ru/life-in-russia/discov...  \n",
              "4  https://studyinrussia.ru/life-in-russia/discov...  "
            ]
          },
          "execution_count": 161,
          "metadata": {},
          "output_type": "execute_result"
        }
      ],
      "source": [
        "def analyze(url): #дробим страницу\n",
        "    req = requests.get(url)\n",
        "    note = BeautifulSoup(req.text, 'html.parser')\n",
        "    elems = note.find_all(\"div\", {\"class\": \"program-item\"})\n",
        "    return elems\n",
        "all_elems = []\n",
        "for PAGE in pages:\n",
        "    all_elems += analyze(PAGE)\n",
        "elem = all_elems[0]\n",
        "\n",
        "def analyze_one_element(elem): #дробим один обьект\n",
        "    program_name = elem.findAll(\"h3\", class_='h3-basic')[0].text.strip()  \n",
        "    program_names.append(program_name)\n",
        "    university_name = elem.findAll(\"div\", class_=\"university\")[0].findAll(\"a\")[0].text.strip()   \n",
        "    university_names.append(university_name)\n",
        "    city = elem.findAll(\"div\", class_=\"university\")[0].findAll(\"a\")[1].text \n",
        "    cities.append(city)\n",
        "    orientation = np.NaN\n",
        "    index = 1\n",
        "    if \"Направление\" in elem.findAll(\"div\", class_=\"column\")[0].text.split(\"\\n\")[1]:\n",
        "        orientation = elem.findAll(\"div\", class_=\"column\")[0].text.split(\"\\n\")[index][len(\"Направление: \"):].strip() \n",
        "        index += 1\n",
        "        \n",
        "    orientations.append(orientation)\n",
        "    level = np.NaN\n",
        "    try:\n",
        "        if \"Уровень\" in  elem.findAll(\"div\", class_=\"column\")[0].text:\n",
        "            level = elem.findAll(\"div\", class_=\"column\")[0].text.split(\"\\n\")[index][len(\"Уровень: \"):].strip()  \n",
        "            index += 1\n",
        "    except:\n",
        "        pass\n",
        "    levels.append(level)\n",
        "    language = np.NaN\n",
        "    try:\n",
        "        if \"Язык обучения\" in elem.findAll(\"div\", class_=\"column\")[0].text:\n",
        "            language = elem.findAll(\"div\", class_=\"column\")[0].text.split(\"\\n\")[index][len(\"Язык обучения: \"):].strip()  \n",
        "            index += 1\n",
        "    except:\n",
        "        pass\n",
        "    languages.append(language)\n",
        "    continuation = np.NaN\n",
        "    try:\n",
        "        if 'Продолжительность' in elem.findAll(\"div\", class_=\"column\")[0].text:\n",
        "            continuation = elem.findAll(\"div\", class_=\"column\")[0].text.split(\"\\n\")[index][len(\"Продолжительность: \"):].strip()  \n",
        "            index += 1   \n",
        "    except:\n",
        "        pass\n",
        "    continuations.append(continuation)\n",
        "    education_form = np.NaN\n",
        "    try:\n",
        "        education_form = elem.findAll(\"div\", class_=\"column\")[1].text.split(\"\\n\")[1][len(\"Форма обучения: \"):].strip()\n",
        "    except:\n",
        "        pass\n",
        "    education_forms.append(education_form)\n",
        "    free_education = np.NaN\n",
        "    try:\n",
        "        free_education = elem.findAll(\"div\", class_=\"column\")[1].text.split(\"\\n\")[2][len(\"Возможность бесплатного обучения: \"):].strip()\n",
        "    except:\n",
        "        pass\n",
        "    free_educations.append(free_education)\n",
        "    education_cost = np.NaN\n",
        "    try:\n",
        "        education_cost = elem.findAll(\"div\", class_=\"column\")[1].text.split(\"\\n\")[3][len(\"Стоимость обучения: \"):].strip()\n",
        "    except:\n",
        "        pass\n",
        "    education_costs.append(education_cost)\n",
        "    education_place = np.NaN\n",
        "    try:\n",
        "        education_place = elem.findAll(\"div\", class_=\"column\")[1].text.split(\"\\n\")[4][len(\"Где проходит обучение: \"):].strip()\n",
        "    except:\n",
        "        pass\n",
        "    education_places.append(education_place)\n",
        "    href_for_more_info = \"https://studyinrussia.ru\" + elem.find_all(\"a\", href=True)[1][\"href\"]\n",
        "    href_for_more_infos.append( href_for_more_info)\n",
        "\n",
        "\n",
        "for elem in all_elems:\n",
        "    analyze_one_element(elem)\n",
        "\n",
        "diction = {'Name': program_names, 'University': university_names, 'City': cities, \n",
        "           'Orientation': orientations, 'Level': levels, 'Language': languages,\n",
        "          'Period': continuations, 'EduFORM': education_forms, 'Free': free_educations,\n",
        "          'Price': education_costs, 'Place': education_places, 'Url': href_for_more_infos}\n",
        "df = pd.DataFrame(diction)\n",
        "df.head()"
      ]
    },
    {
      "cell_type": "code",
      "execution_count": null,
      "metadata": {
        "id": "eCbr0mJxyD2G"
      },
      "outputs": [],
      "source": [
        ""
      ]
    },
    {
      "cell_type": "markdown",
      "metadata": {
        "id": "OrlPt9P5yD2G"
      },
      "source": [
        "# 1.1. Отобразите пять вузов, которые реализуют больше всего магистреских или бакалавриских программ на анлийском языке?"
      ]
    },
    {
      "cell_type": "code",
      "execution_count": null,
      "metadata": {
        "id": "h2Oc0KqyyD2H",
        "outputId": "6d02c665-0ff3-4910-b4b0-f18d303bf5a2"
      },
      "outputs": [
        {
          "data": {
            "text/plain": [
              "Language  University           \n",
              "False     УрФУ                     60\n",
              "          КФУ                      45\n",
              "          ВШЭ                      36\n",
              "          РУДН                     36\n",
              "          МФТИ                     33\n",
              "          СФУ                      33\n",
              "          ТГУ                      30\n",
              "          МИФИ                     24\n",
              "          ДВФУ                     21\n",
              "          МГМУ                     21\n",
              "          Самарский университет    21\n",
              "          ЮУрГУ                    21\n",
              "          БФУ                      18\n",
              "          МИСиС                     9\n",
              "          НГУ                       9\n",
              "          ННГУ                      9\n",
              "          ПетрГУ                    9\n",
              "          Университет ИТМО          9\n",
              "          ТПУ                       6\n",
              "          СПбПУ                     3\n",
              "          ТюмГУ                     3\n",
              "True      МФТИ                     24\n",
              "          МИФИ                     21\n",
              "          КФУ                      18\n",
              "          Самарский университет    12\n",
              "          БФУ                       9\n",
              "          РУДН                      9\n",
              "          СПбПУ                     9\n",
              "          СФУ                       9\n",
              "          ВШЭ                       6\n",
              "          ЛЭТИ                      6\n",
              "          Университет ИТМО          6\n",
              "          УрФУ                      6\n",
              "          ДВФУ                      3\n",
              "          НГУ                       3\n",
              "          ТПУ                       3\n",
              "Name: University, dtype: int64"
            ]
          },
          "execution_count": 149,
          "metadata": {},
          "output_type": "execute_result"
        }
      ],
      "source": [
        "#здесь написать ответ\n",
        "df.groupby([df.Language==\"английский\"])[\"University\"].value_counts()"
      ]
    },
    {
      "cell_type": "raw",
      "metadata": {
        "id": "EpWbWer-yD2H"
      },
      "source": [
        "Больше всего программ на английском языке у Мфти мифи кфу "
      ]
    },
    {
      "cell_type": "markdown",
      "metadata": {
        "id": "T-umhAcvyD2H"
      },
      "source": [
        "# 1.2. Постройте график, показывающий число программ на английском языке, реализуемых по городам.  "
      ]
    },
    {
      "cell_type": "code",
      "execution_count": null,
      "metadata": {
        "id": "xbvI_jpGyD2H",
        "outputId": "d676e6fd-e8be-4f18-bd60-e5d78b44ec28"
      },
      "outputs": [
        {
          "data": {
            "text/plain": [
              "<AxesSubplot:xlabel='Language'>"
            ]
          },
          "execution_count": 156,
          "metadata": {},
          "output_type": "execute_result"
        },
        {
          "data": {
            "image/png": "[encoded data removed]",
            "text/plain": [
              "<Figure size 432x288 with 1 Axes>"
            ]
          },
          "metadata": {
            "needs_background": "light"
          },
          "output_type": "display_data"
        }
      ],
      "source": [
        "#здесь написать ответ\n",
        "df_new=df[df.Language==\"английский\"]\n",
        "df_new.groupby(\"Language\")['City'].value_counts().unstack().plot(kind = 'bar', stacked = True)"
      ]
    },
    {
      "cell_type": "markdown",
      "metadata": {
        "id": "UJk37ilWyD2H"
      },
      "source": [
        "Большинство программ на английском реализованы в Москве и Санкт-Петербурге"
      ]
    },
    {
      "cell_type": "markdown",
      "metadata": {
        "id": "dY262j7XyD2I"
      },
      "source": [
        "# 1.3. Постройте сводную таблицу, отражающую число реализуемых программ по направлению, уровню и языку обучения.  "
      ]
    },
    {
      "cell_type": "code",
      "execution_count": null,
      "metadata": {
        "id": "fYWGvqL-yD2I",
        "outputId": "3acb19df-352e-4a45-de67-d9a22c149070"
      },
      "outputs": [
        {
          "data": {
            "text/plain": [
              "Language             Orientation                              \n",
              "английский           Авиационная и ракетно-космическая техника    1\n",
              "                     Физико-технические науки и технологии        1\n",
              "русский              Математика и механика                        9\n",
              "                     Химические науки                             3\n",
              "русский, английский  Электроника, радиотехника и системы связи    1\n",
              "Name: Level, dtype: int64"
            ]
          },
          "execution_count": 164,
          "metadata": {},
          "output_type": "execute_result"
        }
      ],
      "source": [
        "pts=df.groupby(['Language', 'Orientation'])[\"Level\"].size()\n",
        "pts[::15]"
      ]
    },
    {
      "cell_type": "markdown",
      "metadata": {
        "id": "zcdRgxlDyD2I"
      },
      "source": [
        "2.4. Число вузов, вообще не ведущих подготовку по этим 4 специальностям."
      ]
    },
    {
      "cell_type": "code",
      "execution_count": null,
      "metadata": {
        "id": "chj6sx16yD2I"
      },
      "outputs": [],
      "source": [
        "#здесь написать ответ"
      ]
    },
    {
      "cell_type": "markdown",
      "metadata": {
        "id": "RJ5dQY0lyD2I"
      },
      "source": [
        "## Этот файл нужно сохранить как Notebook (.ipynb) и загрузить в MS Teams."
      ]
    }
  ],
  "metadata": {
    "kernelspec": {
      "display_name": "Python 3",
      "language": "python",
      "name": "python3"
    },
    "language_info": {
      "codemirror_mode": {
        "name": "ipython",
        "version": 3
      },
      "file_extension": ".py",
      "mimetype": "text/x-python",
      "name": "python",
      "nbconvert_exporter": "python",
      "pygments_lexer": "ipython3",
      "version": "3.8.8"
    },
    "colab": {
      "name": "НИС_Python_Контрольная2_22.03.2022 1.ipynb",
      "provenance": []
    }
  },
  "nbformat": 4,
  "nbformat_minor": 0
}